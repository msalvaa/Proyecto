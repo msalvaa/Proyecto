{
 "cells": [
  {
   "cell_type": "markdown",
   "metadata": {},
   "source": [
    "# Proyecto\n",
    "\n",
    "\n",
    "En este proyecto vamos a hacer machine learning aplicado al ámbito medico ,específicamente diagnostico medico.\n",
    "Vamos a crear una aplicación que ayuda a diagnosticar si un tumor de seno es cancerígeno (maligno) o no (benigno)   .\n",
    "Para lograr esto vamos a utilizar un set de datos recopilado por diversos médicos , el cual contiene características de tumores de seno y el diagnostico final . Este es un problema de clasificación binaria ya que solo tenemos dos clases(maligno o benigno), se va a implementar regresión logística para obtener la probabilidad de que el tumor sea maligno.\n",
    "\n",
    "<img src=\"images/ai_cancer.png\" width=\"300\">\n",
    "\n",
    "Según lo visto en la clase en este proyecto el estudiante hará  todo el proceso de entrenamiento, evaluación y selección del modelo de machine learning(pasos 1 al 5 del diagrama de flujo de ejemplo) ,luego de seleccionar el mejor va a exportar el modelo (como fue explicado en la clase deployment/despliegue de modelos y va a entregarlo al profesor) ya que  este será utilizado dentro de una aplicación móvil (desarrollada por el profesor, paso 6 del diagrama )\n",
    "\n",
    "\n",
    "<img src=\"images/diagrama.png\" width=\"700\">"
   ]
  },
  {
   "cell_type": "code",
   "execution_count": 228,
   "metadata": {
    "collapsed": true
   },
   "outputs": [],
   "source": [
    "from sklearn.datasets import load_breast_cancer\n",
    "from sklearn.model_selection import train_test_split\n",
    "from sklearn.linear_model import LogisticRegression\n",
    "import numpy as np\n",
    "from sklearn.utils import resample\n",
    "from sklearn.metrics import accuracy_score, confusion_matrix, precision_score, recall_score, f1_score\n",
    "import datetime\n",
    "import helper"
   ]
  },
  {
   "cell_type": "markdown",
   "metadata": {},
   "source": [
    "## Registro de Experimentos\n",
    "En machine learning y ciencia de datos es importante tener un registro de los resultados de cada experimento realizado, así como la configuración del sistema(tal como learning-rate, numero de iteraciones, cantidad de observaciones y features, etc) que llevo a determinados resultados, esto porque el proceso puede llegar a ser muy iterativo y nos es útil saber en todo momento que caso tuvo los mejores resultados. Por esta razón en este proyecto utilizamos una bitácora o log-book científico en el cual tenemos la configuración de nuestros modelos y los resultados(métricas de evaluación) de cada uno."
   ]
  },
  {
   "cell_type": "code",
   "execution_count": 229,
   "metadata": {
    "collapsed": true
   },
   "outputs": [],
   "source": [
    "log_book = helper.load_log_book()"
   ]
  },
  {
   "cell_type": "markdown",
   "metadata": {},
   "source": [
    "Una vez la bitacora contenga informacion ,puedes consultarla en cualquier celda usando:\n",
    "\n",
    "helper.print_log_book(log_book)"
   ]
  },
  {
   "cell_type": "markdown",
   "metadata": {},
   "source": [
    "Para guardar la bitacora (una vez has capturado el resultado de los experimentos que realizaremos) usaremos el siguiente codigo(hay mas detalles mas adelante)\n",
    "\n",
    "helper.guardar_log_book(log_book)"
   ]
  },
  {
   "cell_type": "markdown",
   "metadata": {},
   "source": [
    "## Carnet estudiante"
   ]
  },
  {
   "cell_type": "markdown",
   "metadata": {},
   "source": [
    " La aplicación móvil resultante tendrá un modelo por estudiante, por lo cual es importante identificar a que estudiante pertenece cada modelo, por esta razón  en el proceso de exportar el modelo el archivo resultante tendrá en su nombre el carnet del estudiante. \n",
    " \n",
    " En una variable deben ingresar su numero de carnet, para que al exportar el modelo el archivo se llame `carnet+\"model.csv\"`. Por ejemplo 200818835model.csv"
   ]
  },
  {
   "cell_type": "code",
   "execution_count": 230,
   "metadata": {
    "collapsed": true
   },
   "outputs": [],
   "source": [
    "carnet = \"20150205\""
   ]
  },
  {
   "cell_type": "markdown",
   "metadata": {},
   "source": [
    "## Breast Cancer Data Set\n",
    "\n",
    "El dataset que usaremos contiene varias características(features) , más adelante encontraras instrucciones de cómo trabajar con estas. En el siguiente enlace puedes acceder a mayor información y detalles del dataset.\n",
    "\n",
    "[Link al set de datos](http://scikit-learn.org/stable/modules/generated/sklearn.datasets.load_breast_cancer.html#sklearn.datasets.load_breast_cancer)\n",
    "\n",
    "#### Data Set Information:\n",
    "\n",
    "Features are computed from a digitized image of a fine needle aspirate (FNA) of a breast mass. They describe characteristics of the cell nuclei present in the image. A few of the images can be found at [Web Link] \n",
    "\n",
    "Separating plane described above was obtained using Multisurface Method-Tree (MSM-T) [K. P. Bennett, \"Decision Tree Construction Via Linear Programming.\" Proceedings of the 4th Midwest Artificial Intelligence and Cognitive Science Society, pp. 97-101, 1992], a classification method which uses linear programming to construct a decision tree. Relevant features were selected using an exhaustive search in the space of 1-4 features and 1-3 separating planes. \n",
    "\n",
    "The actual linear program used to obtain the separating plane in the 3-dimensional space is that described in: [K. P. Bennett and O. L. Mangasarian: \"Robust Linear Programming Discrimination of Two Linearly Inseparable Sets\", Optimization Methods and Software 1, 1992, 23-34]. "
   ]
  },
  {
   "cell_type": "code",
   "execution_count": 231,
   "metadata": {
    "collapsed": true
   },
   "outputs": [],
   "source": [
    "data = load_breast_cancer()"
   ]
  },
  {
   "cell_type": "markdown",
   "metadata": {},
   "source": [
    "Este es un problema de clasificacion binario por que que existen solo dos posibles valores(predecimos tumores cancerigenos de seno)"
   ]
  },
  {
   "cell_type": "code",
   "execution_count": 232,
   "metadata": {},
   "outputs": [
    {
     "data": {
      "text/plain": [
       "array(['malignant', 'benign'],\n",
       "      dtype='<U9')"
      ]
     },
     "execution_count": 232,
     "metadata": {},
     "output_type": "execute_result"
    }
   ],
   "source": [
    "data.target_names"
   ]
  },
  {
   "cell_type": "markdown",
   "metadata": {},
   "source": [
    "El data set tiene varios features, por lo  que debemos experimentar con diferentes features y analizar los resultados, en esta celda vamos a imprimir los nombres de las features que poseemos.\n",
    "\n",
    "En este [link](https://goo.gl/U2Uwz2) podemos encontrar mas información sobre las features.\n",
    "\n",
    "Nota: Aunque a lo largo del proyecto, usaremos distintas features para entrenar diversos modelos y entender cómo funciona el proceso de ML y el impacto del uso de diversas features, en el resultado final (el modelo que será exportado e integrado a la aplicación móvil) solo usaremos las primeras 5 features.\n",
    "\n"
   ]
  },
  {
   "cell_type": "code",
   "execution_count": 233,
   "metadata": {},
   "outputs": [
    {
     "data": {
      "text/plain": [
       "array(['mean radius', 'mean texture', 'mean perimeter', 'mean area',\n",
       "       'mean smoothness', 'mean compactness', 'mean concavity',\n",
       "       'mean concave points', 'mean symmetry', 'mean fractal dimension',\n",
       "       'radius error', 'texture error', 'perimeter error', 'area error',\n",
       "       'smoothness error', 'compactness error', 'concavity error',\n",
       "       'concave points error', 'symmetry error', 'fractal dimension error',\n",
       "       'worst radius', 'worst texture', 'worst perimeter', 'worst area',\n",
       "       'worst smoothness', 'worst compactness', 'worst concavity',\n",
       "       'worst concave points', 'worst symmetry', 'worst fractal dimension'],\n",
       "      dtype='<U23')"
      ]
     },
     "execution_count": 233,
     "metadata": {},
     "output_type": "execute_result"
    }
   ],
   "source": [
    "data.feature_names"
   ]
  },
  {
   "cell_type": "markdown",
   "metadata": {},
   "source": [
    "muestra de las primeras 5 labels/etiquetas"
   ]
  },
  {
   "cell_type": "code",
   "execution_count": 234,
   "metadata": {},
   "outputs": [
    {
     "data": {
      "text/plain": [
       "array([0, 0, 0, 0, 0])"
      ]
     },
     "execution_count": 234,
     "metadata": {},
     "output_type": "execute_result"
    }
   ],
   "source": [
    "data.target[0:5]"
   ]
  },
  {
   "cell_type": "markdown",
   "metadata": {},
   "source": [
    "las features para estos 5 casos de ejemplo"
   ]
  },
  {
   "cell_type": "code",
   "execution_count": 235,
   "metadata": {},
   "outputs": [
    {
     "data": {
      "text/plain": [
       "array([[  1.79900000e+01,   1.03800000e+01,   1.22800000e+02,\n",
       "          1.00100000e+03,   1.18400000e-01,   2.77600000e-01,\n",
       "          3.00100000e-01,   1.47100000e-01,   2.41900000e-01,\n",
       "          7.87100000e-02,   1.09500000e+00,   9.05300000e-01,\n",
       "          8.58900000e+00,   1.53400000e+02,   6.39900000e-03,\n",
       "          4.90400000e-02,   5.37300000e-02,   1.58700000e-02,\n",
       "          3.00300000e-02,   6.19300000e-03,   2.53800000e+01,\n",
       "          1.73300000e+01,   1.84600000e+02,   2.01900000e+03,\n",
       "          1.62200000e-01,   6.65600000e-01,   7.11900000e-01,\n",
       "          2.65400000e-01,   4.60100000e-01,   1.18900000e-01],\n",
       "       [  2.05700000e+01,   1.77700000e+01,   1.32900000e+02,\n",
       "          1.32600000e+03,   8.47400000e-02,   7.86400000e-02,\n",
       "          8.69000000e-02,   7.01700000e-02,   1.81200000e-01,\n",
       "          5.66700000e-02,   5.43500000e-01,   7.33900000e-01,\n",
       "          3.39800000e+00,   7.40800000e+01,   5.22500000e-03,\n",
       "          1.30800000e-02,   1.86000000e-02,   1.34000000e-02,\n",
       "          1.38900000e-02,   3.53200000e-03,   2.49900000e+01,\n",
       "          2.34100000e+01,   1.58800000e+02,   1.95600000e+03,\n",
       "          1.23800000e-01,   1.86600000e-01,   2.41600000e-01,\n",
       "          1.86000000e-01,   2.75000000e-01,   8.90200000e-02],\n",
       "       [  1.96900000e+01,   2.12500000e+01,   1.30000000e+02,\n",
       "          1.20300000e+03,   1.09600000e-01,   1.59900000e-01,\n",
       "          1.97400000e-01,   1.27900000e-01,   2.06900000e-01,\n",
       "          5.99900000e-02,   7.45600000e-01,   7.86900000e-01,\n",
       "          4.58500000e+00,   9.40300000e+01,   6.15000000e-03,\n",
       "          4.00600000e-02,   3.83200000e-02,   2.05800000e-02,\n",
       "          2.25000000e-02,   4.57100000e-03,   2.35700000e+01,\n",
       "          2.55300000e+01,   1.52500000e+02,   1.70900000e+03,\n",
       "          1.44400000e-01,   4.24500000e-01,   4.50400000e-01,\n",
       "          2.43000000e-01,   3.61300000e-01,   8.75800000e-02],\n",
       "       [  1.14200000e+01,   2.03800000e+01,   7.75800000e+01,\n",
       "          3.86100000e+02,   1.42500000e-01,   2.83900000e-01,\n",
       "          2.41400000e-01,   1.05200000e-01,   2.59700000e-01,\n",
       "          9.74400000e-02,   4.95600000e-01,   1.15600000e+00,\n",
       "          3.44500000e+00,   2.72300000e+01,   9.11000000e-03,\n",
       "          7.45800000e-02,   5.66100000e-02,   1.86700000e-02,\n",
       "          5.96300000e-02,   9.20800000e-03,   1.49100000e+01,\n",
       "          2.65000000e+01,   9.88700000e+01,   5.67700000e+02,\n",
       "          2.09800000e-01,   8.66300000e-01,   6.86900000e-01,\n",
       "          2.57500000e-01,   6.63800000e-01,   1.73000000e-01],\n",
       "       [  2.02900000e+01,   1.43400000e+01,   1.35100000e+02,\n",
       "          1.29700000e+03,   1.00300000e-01,   1.32800000e-01,\n",
       "          1.98000000e-01,   1.04300000e-01,   1.80900000e-01,\n",
       "          5.88300000e-02,   7.57200000e-01,   7.81300000e-01,\n",
       "          5.43800000e+00,   9.44400000e+01,   1.14900000e-02,\n",
       "          2.46100000e-02,   5.68800000e-02,   1.88500000e-02,\n",
       "          1.75600000e-02,   5.11500000e-03,   2.25400000e+01,\n",
       "          1.66700000e+01,   1.52200000e+02,   1.57500000e+03,\n",
       "          1.37400000e-01,   2.05000000e-01,   4.00000000e-01,\n",
       "          1.62500000e-01,   2.36400000e-01,   7.67800000e-02]])"
      ]
     },
     "execution_count": 235,
     "metadata": {},
     "output_type": "execute_result"
    }
   ],
   "source": [
    "data.data[0:5,]"
   ]
  },
  {
   "cell_type": "markdown",
   "metadata": {},
   "source": [
    "# Implementación de Regresión Logística "
   ]
  },
  {
   "cell_type": "markdown",
   "metadata": {},
   "source": [
    "## Hipótesis\n",
    "Función Sigmoid:\n",
    "\n",
    "$sig(t) = {\\frac {1} {1 + e^{-t}}}$\n",
    "\n",
    "Combinamos la función sigmoid/lógistica con la  hipótesis conocida (aprendida en regresión lineal) y tenemos la nueva hipótesis para clasificación con regresión lógistica:\n",
    "\n",
    "$z = \\theta_{0} + \\theta_{1}x_{1} + \\theta_{2}x_{2} + \\ldots + \\theta_{n}x_{n}$\n",
    "\n",
    "$g(z) = {\\frac {1} {1 + e^{-z}}}$\n",
    "\n",
    "** Hipótesis para clasificación con regresión logística: **\n",
    "\n",
    "$h_{\\theta}(x) = {\\frac {1} {1 + e^{-(\\theta_{0} + \\theta_{1}x_{1} + \\theta_{2}x_{2} + \\ldots + \\theta_{n}x_{n})}}}$"
   ]
  },
  {
   "cell_type": "code",
   "execution_count": 236,
   "metadata": {
    "collapsed": true
   },
   "outputs": [],
   "source": [
    "## Sigmoid \n",
    "\n",
    "def sigmoid(z):\n",
    "    ### INICIO: TU CODIGO AQUI:  (~1 linea)###\n",
    "    s = 1/(1+np.exp(-z))\n",
    "    ### FIN ##\n",
    "    \n",
    "    return s"
   ]
  },
  {
   "cell_type": "code",
   "execution_count": 237,
   "metadata": {},
   "outputs": [
    {
     "name": "stdout",
     "output_type": "stream",
     "text": [
      "sigmoid(0) = 0.5\n",
      "sigmoid(9.2) = 0.999898970806\n"
     ]
    }
   ],
   "source": [
    "### Validando nuestra funcion sigmoid\n",
    "print (\"sigmoid(0) = \" + str(sigmoid(0)))\n",
    "print (\"sigmoid(9.2) = \" + str(sigmoid(9.2)))"
   ]
  },
  {
   "cell_type": "markdown",
   "metadata": {},
   "source": [
    "#### Resultados esperados\n",
    "\n",
    "**sigmoid(0)** = 0.5\n",
    "\n",
    "**sigmoid(9.2)** = 0.999898970806\n"
   ]
  },
  {
   "cell_type": "markdown",
   "metadata": {},
   "source": [
    "Implementado la hipótesis/modelo para clasificación con regresión logística\n",
    "\n",
    "** Hipótesis para clasificación con regresión logística: **\n",
    "\n",
    "$h_{\\theta}(x) = {\\frac {1} {1 + e^{-(\\theta_{0} + \\theta_{1}x_{1} + \\theta_{2}x_{2} + \\ldots + \\theta_{n}x_{n})}}}$"
   ]
  },
  {
   "cell_type": "code",
   "execution_count": 238,
   "metadata": {
    "collapsed": true
   },
   "outputs": [],
   "source": [
    "def get_hipotesis(features, theta_values):\n",
    "    ## Calculo de la hipotesis de froma vectorizada,producto punto entre el vector de features y el vector de parametros theta ##\n",
    "    z = features.dot(theta_values)\n",
    "    \n",
    "    ### INICIO: TU CODIGO AQUI:  (~1 linea)###\n",
    "    h = sigmoid(z)\n",
    "    ### FIN ##\n",
    "    \n",
    "    return h"
   ]
  },
  {
   "cell_type": "markdown",
   "metadata": {},
   "source": [
    "# Métricas de evaluación\n",
    "\n",
    "Tal como lo vimos en la clase 22: evaluación , utilizamos diversas métricas para evaluar y reportar la exactitud y rendimiento de nuestros modelos de machine learning. En clasificación usamos el costo: cross-entropy para entrenar, pero evaluamos y reportamos diversas métricas mas ."
   ]
  },
  {
   "cell_type": "markdown",
   "metadata": {},
   "source": [
    "## Costo\n",
    "\n",
    "El proceso de gradient descent busca minimizar la siguiente función de costo en función de los parámetros theta, y así encontrar los parámetros que producen una hipótesis optima. \n",
    "\n",
    "El costo mide que tan buena o mala es una hipótesis por lo cual esperamos que este disminuya durante el entrenamiento.\n",
    "\n",
    "$J(\\Theta) = - {\\frac {1}{m}}\\sum _{i=1}^{m} y \\log(h(x)) + (1-y)\\log(1-h(x))$\n",
    "\n",
    "Utiliza la funcion log de numpy, Ejemplo:\n",
    "`np.log(y)`"
   ]
  },
  {
   "cell_type": "code",
   "execution_count": 239,
   "metadata": {
    "collapsed": true
   },
   "outputs": [],
   "source": [
    "def costo(X, theta_vector, y):\n",
    "    m = len(y)\n",
    "    \n",
    "    ### INICIO: TU CODIGO AQUI:  (~2 lineas)###\n",
    "    y_hat = get_hipotesis(X,theta_vector)\n",
    "    \n",
    "    costo = (-1/m)*np.sum((y*np.log(y_hat))+((1-y)*np.log(1-y_hat)))\n",
    "    ### FIN ##\n",
    "    \n",
    "    return costo"
   ]
  },
  {
   "cell_type": "markdown",
   "metadata": {},
   "source": [
    "## Accuracy Score\n",
    "\n",
    "Implementa la funcion de accuracy utlizando sklearn(puedes utilizar como referencia la clase 22: evaluación )"
   ]
  },
  {
   "cell_type": "code",
   "execution_count": 240,
   "metadata": {
    "collapsed": true
   },
   "outputs": [],
   "source": [
    "def accuracy(X, theta_vector, y):\n",
    "\n",
    "    hipotesis = get_hipotesis(X, theta_vector)\n",
    "    \n",
    "    # Convertimos el resultado probabilistico a deterministico (0 1)\n",
    "    y_pred = [1 if (y >= 0.5) else 0 for y in hipotesis ]\n",
    "    \n",
    "    ### INICIO: TU CODIGO AQUI:  (~1 linea)###\n",
    "    acc_score = accuracy_score(y, y_pred)\n",
    "    ### FIN ##\n",
    "    \n",
    "    return acc_score"
   ]
  },
  {
   "cell_type": "markdown",
   "metadata": {},
   "source": [
    "## F1 Score\n",
    "\n",
    "Implementa la funcion de f1_score utlizando sklearn(puedes utilizar como referencia la clase 22: evaluación )"
   ]
  },
  {
   "cell_type": "code",
   "execution_count": 241,
   "metadata": {
    "collapsed": true
   },
   "outputs": [],
   "source": [
    "def f1(X, theta_vector, y):\n",
    "\n",
    "    hipotesis = get_hipotesis(X, theta_vector)\n",
    "\n",
    "    # Convertimos el resultado probabilistico a deterministico (0 1)    \n",
    "    y_pred = [1 if (y >= 0.5) else 0 for y in hipotesis ]\n",
    "    \n",
    "    ## INICIO: TU CODIGO AQUI:  (~1 linea)###\n",
    "    f1 = f1_score(y, y_pred)\n",
    "    ### FIN ##\n",
    "    \n",
    "    return f1"
   ]
  },
  {
   "cell_type": "markdown",
   "metadata": {},
   "source": [
    "## Precision Score\n",
    "\n",
    "Implementa la funcion de precision_score utlizando sklearn(puedes utilizar como referencia la clase 22: evaluación )"
   ]
  },
  {
   "cell_type": "code",
   "execution_count": 242,
   "metadata": {
    "collapsed": true
   },
   "outputs": [],
   "source": [
    "def precision(X, theta_vector, y):\n",
    "\n",
    "    hipotesis = get_hipotesis(X, theta_vector)\n",
    "\n",
    "    # Convertimos el resultado probabilistico a deterministico (0 1)    \n",
    "    y_pred = [1 if (y >= 0.5) else 0 for y in hipotesis ]\n",
    "    \n",
    "    ## INICIO: TU CODIGO AQUI:  (~1 linea)###\n",
    "    precision = precision_score(y, y_pred)\n",
    "    ### FIN ##\n",
    "    \n",
    "    return precision"
   ]
  },
  {
   "cell_type": "markdown",
   "metadata": {},
   "source": [
    "## Recall Score\n",
    "\n",
    "Implementa la funcion de recall_score utlizando sklearn(puedes utilizar como referencia la clase 22: evaluación )"
   ]
  },
  {
   "cell_type": "code",
   "execution_count": 243,
   "metadata": {
    "collapsed": true
   },
   "outputs": [],
   "source": [
    "def recall(X, theta_vector, y):\n",
    "\n",
    "    hipotesis = get_hipotesis(X, theta_vector)\n",
    "\n",
    "    # Convertimos el resultado probabilistico a deterministico (0 1)    \n",
    "    y_pred = [1 if (y >= 0.5) else 0 for y in hipotesis ]\n",
    "    \n",
    "    ## INICIO: TU CODIGO AQUI:  (~1 linea)###\n",
    "    reacall = recall_score(y, y_pred)\n",
    "    ### FIN ##\n",
    "    \n",
    "    return recall"
   ]
  },
  {
   "cell_type": "markdown",
   "metadata": {},
   "source": [
    "# Pre-procesamiento\n",
    "\n",
    "En Machine learning, la fase de pre-procesamiento(incluyendo feature engineering) de datos puede llegar a abarcar el 70% o más del tiempo de un proyecto , pero este es un tema que se profundiza en otros cursos del área de ciencia de datos por lo cual en este proyecto solo vamos a realizar como pre-procesamiento una normalización de features."
   ]
  },
  {
   "cell_type": "markdown",
   "metadata": {},
   "source": [
    "### Estandarización o Z-score Normalizacion \n",
    "\n",
    "El objetivo de la normalización es ayudar a gradient descent a encontrar el mínimo del costo mas rápido y fácilmente , esto se logra a través de convertir las features de manera que tengan media = 0 y desviación estándar de 1 , similar a una distribución de probabilidad normal(gaussiana).\n",
    "\n",
    "Lo calculamos utilizando:\n",
    "\n",
    "$z = {\\frac {x - \\mu} {\\sigma}}$\n",
    "\n",
    "Donde $\\mu$ es la media y $\\sigma$ es la desviacion estandard\n",
    "\n",
    "##### Comentario opcional:\n",
    "el Z-score en el nombre concuerda con el uso de \"z-scores\" en estadística cuando se hace estadística inferencial(prueba de hipótesis e intervalos de confianza)\n",
    "\n",
    "Implementa la funcion de normalizacion sin utlizar sklearn solo puedes utilizar numpy.\n",
    "\n",
    "Para utilizar la columna de features, utilizamos `features[:,i]`"
   ]
  },
  {
   "cell_type": "code",
   "execution_count": 244,
   "metadata": {
    "collapsed": true
   },
   "outputs": [],
   "source": [
    "def normalizar(features):\n",
    "    std = 1\n",
    "    media = 0\n",
    "    \n",
    "    # Utilizamos el ciclo, para normalizar cada feature(una iteracion por feature)\n",
    "    for i in list(range(0, features.shape[1])):\n",
    "        ### INICIO: TU CODIGO AQUI:  (~3 lineas)###\n",
    "        std = np.std(features[:,i])\n",
    "        media = np.mean(features[:,i])\n",
    "        features[:,i] = (features[:,i]-media)/std\n",
    "        ### FIN ##\n",
    "    return features"
   ]
  },
  {
   "cell_type": "markdown",
   "metadata": {},
   "source": [
    "## Prediccion\n",
    "\n",
    "Una vez entrenado, el modelo de ML se utiliza para realizar predicciones ,en este proyecto realizaremos predicciones en un train y un test set(no usaremos cross-validation set)  .Una  vez exportado y entregado el modelo al profesor, el modelo realizara predicciones dentro de una aplicación móvil . \n",
    "\n",
    "La siguiente función la vamos a utilizar para realizar predicciones a lo largo del proyecto(y así poder medir contra los datos reales para realizar evaluación), no hay que cambiar nada del código, solo ejecuta la celda."
   ]
  },
  {
   "cell_type": "code",
   "execution_count": 245,
   "metadata": {
    "collapsed": true
   },
   "outputs": [],
   "source": [
    "def prediccion(x, theta_vector, normalizar_valores):\n",
    "    numero_features = x.shape[1] + 1\n",
    "    \n",
    "    if (normalizar_valores):\n",
    "        x = normalizar(x)\n",
    "    \n",
    "    x_features = np.ones((x.shape[0], numero_features))\n",
    "    x_features[:,:-1] = x\n",
    "\n",
    "    \n",
    "    y_hat = get_hipotesis(x_features, theta_vector)\n",
    "    \n",
    "    return np.array([1 if (y >= 0.5) else 0 for y in y_hat])"
   ]
  },
  {
   "cell_type": "markdown",
   "metadata": {
    "collapsed": true
   },
   "source": [
    "## Gradient Descent\n",
    "\n",
    "Gradient descent es el algoritmo o método de optimización matemática que nos permite realizar el “entrenamiento” de nuestro modelos, ya que minimiza el costo y nos devuelve los parámetros del modelo óptimos.\n",
    "\n",
    "En la siguiente celda, debes implementar gradient descent tal como visto en clase y practicado en las tareas .\n",
    "\n",
    "Lo definimos e implementamos dentro de una función de Python para que podamos ejecutarlo(“llamarlo”) múltiples veces con distintos parámetros, sin tener que volver a programarlo cada vez , esto nos será útil para experimentar y entrenar varios modelos.\n",
    "\n",
    "Repetir{\n",
    "\n",
    "$\\theta_{j} := \\theta _{j} - \\alpha {\\frac {1}{m}} \\sum _{i=1}^{m}(h_{\\theta}(x^{(i)})-y^{(i)})x^{(i)}_{j}$\n",
    "\n",
    "}\n",
    "        \n",
    "Simultaneamente para cada $j = 0,\\ldots,n $"
   ]
  },
  {
   "cell_type": "code",
   "execution_count": 246,
   "metadata": {
    "collapsed": true
   },
   "outputs": [],
   "source": [
    "def gradient_descent(X, y, theta_vector, alpha, iterations, X_test, y_test, nombre_modelo):\n",
    "    global log_book\n",
    "    m = len(y)  #numero de ejemplos de entrenamiento\n",
    "\n",
    "    ## Las siguientes 3 lineas de codigo crean listas vacias para almacenar el costo y accuracy obtenido en cada iteracion\n",
    "    ## Se espera que el costo disminuya y el accuracy aumente\n",
    "    cost_vect = []\n",
    "    accuracy_vect = []\n",
    "    accuracy_vect_test = []\n",
    "    \n",
    "    for iteration in range(iterations):\n",
    "        '''\n",
    "        IMPLELEMTA TU CODIGO AQUI, llama a la funcion para calcular la hipotesis,es decir calcular h(x)\n",
    "        que se implemento mas arriba. Parametros matriz de features X y el vector\n",
    "        con los valores Theta (~1 linea)\n",
    "        '''\n",
    "        hipotesis = get_hipotesis(X, theta_vector)\n",
    "\n",
    "\n",
    "        theta_vector_temp = [] # vector que guarda los parametros theta temporales\n",
    "        \n",
    "        # Utilizamos un ciclo para realizar la actualizacion de gradient descent una vez para cada parametro\n",
    "        # En cada iteracion \"i\" guarda el numero de parametro theta, y la varaible \"theta\" guarda el parametro como tal\n",
    "        for i, theta in enumerate(theta_vector):\n",
    "            '''\n",
    "            IMPLELEMTA TU CODIGO AQUI, adentro de este ciclo vamos a calcular\n",
    "            elnuevo valor de Theta[i], utilizando la formula de la celda de arriba\n",
    "            Recuerda que para multiplicar por utilizamos X[:,i]  (~1 linea)\n",
    "            '''\n",
    "            nuevo_theta =  theta-alpha*(1/(int(m))*np.sum(np.subtract(hipotesis,y)*X[:,i]))\n",
    "\n",
    "            ### aqui agregamos el nuevo valor the theta[i] a un vector temporal\n",
    "            theta_vector_temp.append(nuevo_theta)\n",
    "\n",
    "\n",
    "        ## Actualizamos el vector theta con los nuevos valores\n",
    "        theta_vector = theta_vector_temp\n",
    "\n",
    "        # En las sigiuentes lineas calculamos las metricas de evaluacion en cada iteracion(aplicadas al train-set)\n",
    "        '''\n",
    "        IMPLEMENTA TU CODIGO AQUI, llama a la funcion de costo (~1 linea)\n",
    "        '''\n",
    "        cost = costo(X, theta_vector, y)\n",
    "        \n",
    "        '''\n",
    "        IMPLEMENTA TU CODIGO AQUI, utiliza Accuracy que se definio arriba (~1 linea)\n",
    "        '''\n",
    "        acc_score = accuracy(X, theta_vector, y)\n",
    "        \n",
    "        '''\n",
    "        IMPLEMENTA TU CODIGO AQUI, utiliza f1 score que se definio arriba (~1 linea)\n",
    "        '''\n",
    "        f1_training = f1(X, theta_vector, y)\n",
    "\n",
    "        '''\n",
    "        IMPLEMENTA TU CODIGO AQUI, utiliza precision score que se definio arriba (~1 linea)\n",
    "        '''\n",
    "        precision_training = precision(X, theta_vector, y)\n",
    "        \n",
    "        '''\n",
    "        IMPLEMENTA TU CODIGO AQUI, utiliza recall score que se definio arriba (~1 linea)\n",
    "        '''\n",
    "        recall_training = recall(X, theta_vector, y)\n",
    "        \n",
    "        \n",
    "        ## En las siguientes lineas calculamos las metricas de evaluacion aplicadas al test-set, este codigo no hay que cambiarlo ####\n",
    "        y_predict = prediccion(X_test, theta_vector, True)\n",
    "        acc_test = accuracy_score(y_predict, y_test)\n",
    "        accuracy_vect_test.append(acc_test)\n",
    "        f1_score_test = f1_score(y_predict, y_test)\n",
    "        precision_test = precision_score(y_test, y_predict)\n",
    "        recall_test = recall_score(y_test, y_predict)\n",
    "        \n",
    "        ## Guardando el valor del costo para graficarlo, este codigo no hay que cambiarlo ##\n",
    "        cost_vect.append(cost)\n",
    "        accuracy_vect.append(acc_score)\n",
    "        \n",
    "        n = 50 ### Ingresa aqui cada cuantas iteraciones quieres que se imprima el valor de las metricas ###\n",
    "        \n",
    "        ## Este codigo no hay que modificarlo ##\n",
    "        if(iteration % n == 0):\n",
    "            print('#####################')\n",
    "            print('TRAINING: [Iteracion: ', iteration,' Costo: ', cost, \\\n",
    "                  ' Accuracy:', acc_score,' F1 Score:',f1_training, \\\n",
    "                  'Precision training:', precision_training, 'Recall training:', recall_training,']')\n",
    "            print('TEST: [Iteracion: ', iteration,'Accuracy:', acc_test, \\\n",
    "                  ' F1 Score:', f1_score_test, 'Precision Test:', precision_test,'Recall Test:', recall_test,']')\n",
    "        \n",
    "    ## Log book, este codigo no hay que cambiarlo, sirve para guardar en la bitacora los resultados del experimento ##\n",
    "    nombre_modelo = nombre_modelo + '_'+datetime.datetime.now().strftime(\"%d%H%M%f\")\n",
    "    numero_features = X.shape[1] - 1\n",
    "    experiment = np.array([nombre_modelo, numero_features, m, alpha, iterations, accuracy_vect[-1], \\\n",
    "                           accuracy_vect_test[-1], f1_score_test, precision_test, \\\n",
    "                           recall_test,theta_vector], dtype=object)\n",
    "    log_book = np.vstack([log_book, experiment])\n",
    "        \n",
    "    return theta_vector, cost_vect, accuracy_vect,accuracy_vect_test\n"
   ]
  },
  {
   "cell_type": "markdown",
   "metadata": {},
   "source": [
    "## Dividimos la data en training y test set"
   ]
  },
  {
   "cell_type": "markdown",
   "metadata": {},
   "source": [
    "Tal como visto en la clase 23, nos sirve para evaluar objetivamente el rendimiento de nuestros modelos en datos que nunca ha visto durante su entrenamiento"
   ]
  },
  {
   "cell_type": "code",
   "execution_count": 247,
   "metadata": {
    "collapsed": true
   },
   "outputs": [],
   "source": [
    "X_train, X_test, y_train, y_test = train_test_split(data.data, data.target, stratify=data.target, random_state=42)"
   ]
  },
  {
   "cell_type": "code",
   "execution_count": 248,
   "metadata": {},
   "outputs": [
    {
     "data": {
      "text/plain": [
       "(426, 30)"
      ]
     },
     "execution_count": 248,
     "metadata": {},
     "output_type": "execute_result"
    }
   ],
   "source": [
    "X_train.shape"
   ]
  },
  {
   "cell_type": "markdown",
   "metadata": {},
   "source": [
    "# Entrenamiento\n",
    "\n",
    "## Features a utilizar\n",
    "A continuación, vamos a entrenar varios modelos, vamos a utilizar las funciones que creamos previamente.\n",
    "Es importante experimentar con diferentes features,diverso tamaño del training set, y diversos hyper-parametros(learning rate e iteraciones)\n",
    "\n",
    "En este proyecto como máximo vamos a utilizar 5 features(pero en algunos experimentos usaremos menos) de manera obligatoria, pero de forma opcional se recomienda experimentar con más y diversas combinaciones ,esto para practicar y obtener experiencia con ML. \n",
    "\n",
    "También vamos a utilizar diferente número de ejemplos en el set de datos, diferente número de iteraciones y diferente learning rate . Todas estas distintas configuraciones serán almacenadas en el log-book(bitácora) automáticamente .\n",
    "\n",
    "En este proyecto solo vamos a utilizar las primeras 5 features  en este orden:\n",
    "\n",
    "`['mean radius', 'mean texture', 'mean perimeter', 'mean area','mean smoothness']`\n",
    "\n",
    "La razón por las que usaremos estas 5 features específicamente(y en este orden) en el modelo final(el que será exportado) es que estas features son las que serán utilizadas en la aplicación móvil en la cual integraremos el modelo(y tendremos en la interfaz de usuario de la aplicación componentes para ingresar valores para estas features),ero como se mencionó se recomienda experimentar y evaluar resultados con distintas features y distinto número  de ellas .\n",
    "\n",
    "## Descripcion del entrenamiento\n",
    "El entrenamiento de cada modelo se compone básicamente de tres pasos, sampleo bootstrap, escoger las features y ejecutar el entrenamiento llamando a la función de gradient descent que ya creamos.\n",
    "\n",
    "En el primer paso vamos a utilizar la función resample para hacer un sampleo del set de datos de entrenamiento, debemos definir el numero de samples que queremos utilizar.\n",
    "\n",
    "En el segundo paso, en un arreglo vamos a definir el nombre de las features que queremos utilizar para entrenar el modelo.\n",
    "En el tercer paso ejecutamos la función gradient descent.\n",
    "\n",
    "Por ultimo vamos a obtener el accuracy del modelo y vamos a imprimir la matriz de confusión, imprimiremos el precisión y el recall del modelo para entender mejor los resultados y tener una mejor idea de que tan bien clasifica nuestro modelo."
   ]
  },
  {
   "cell_type": "markdown",
   "metadata": {},
   "source": [
    "## Entrenamiento modelo 1"
   ]
  },
  {
   "cell_type": "markdown",
   "metadata": {},
   "source": [
    "#### Sampleo bootstrap"
   ]
  },
  {
   "cell_type": "code",
   "execution_count": 249,
   "metadata": {
    "collapsed": true
   },
   "outputs": [],
   "source": [
    "X_train_m1, Y_train_m1 = resample(X_train, y_train, n_samples = 150)"
   ]
  },
  {
   "cell_type": "markdown",
   "metadata": {},
   "source": [
    "### Filtrar Features\n",
    "Solo seleccionar los features"
   ]
  },
  {
   "cell_type": "code",
   "execution_count": 250,
   "metadata": {
    "collapsed": true
   },
   "outputs": [],
   "source": [
    "'''\n",
    "Ingresa en la lista el nombre de las fatrues que quieres utlizar en este modelo (~1 linea)\n",
    "'''\n",
    "features_filtro = ['mean radius', 'mean texture', 'mean perimeter', 'mean area','mean smoothness']"
   ]
  },
  {
   "cell_type": "code",
   "execution_count": 251,
   "metadata": {
    "collapsed": true
   },
   "outputs": [],
   "source": [
    "X_train_m1 = helper.fitrar_nombre(X_train_m1,data.feature_names,features_filtro)\n",
    "X_test_features = helper.fitrar_nombre(X_test,data.feature_names,features_filtro)"
   ]
  },
  {
   "cell_type": "code",
   "execution_count": 252,
   "metadata": {},
   "outputs": [
    {
     "data": {
      "text/plain": [
       "(150, 5)"
      ]
     },
     "execution_count": 252,
     "metadata": {},
     "output_type": "execute_result"
    }
   ],
   "source": [
    "X_train_m1.shape"
   ]
  },
  {
   "cell_type": "code",
   "execution_count": 253,
   "metadata": {},
   "outputs": [
    {
     "data": {
      "text/plain": [
       "(143, 5)"
      ]
     },
     "execution_count": 253,
     "metadata": {},
     "output_type": "execute_result"
    }
   ],
   "source": [
    "X_test_features.shape"
   ]
  },
  {
   "cell_type": "code",
   "execution_count": 254,
   "metadata": {
    "collapsed": true
   },
   "outputs": [],
   "source": [
    "## Numero de iteracions ##\n",
    "iterations = 500 # Define el numero de iteraciones #\n",
    "\n",
    "## Alpha ##\n",
    "alpha = 0.12 # Define el valor de alpha #\n",
    "\n",
    "#### No hay que cambiar el codigo despues de esta linea #####\n",
    "## Numero de feautres ##\n",
    "numero_features = X_train_m1.shape[1] + 1\n",
    "\n",
    "## Creamos un vector donde se almacenan los valores de Theta,\n",
    "## lo inicializamos con numeros aleatorios\n",
    "theta_vector = np.random.rand(numero_features)\n",
    "\n",
    "## Normaliza las features de X_train_features (~1 linea) ##\n",
    "X_train_m1 = normalizar(X_train_m1)\n",
    "\n",
    "# Creando la Matriz X de features, \n",
    "# utilizamos np.ones para agregar el valor constante '1' que es el bias o feature 0\n",
    "X_train_features = np.ones((X_train_m1.shape[0], numero_features))\n",
    "X_train_features[:,:-1] = X_train_m1"
   ]
  },
  {
   "cell_type": "code",
   "execution_count": 255,
   "metadata": {},
   "outputs": [
    {
     "name": "stdout",
     "output_type": "stream",
     "text": [
      "#####################\n",
      "TRAINING: [Iteracion:  0  Costo:  1.71296957971  Accuracy: 0.186666666667  F1 Score: 0.246913580247 Precision training: 0.294117647059 Recall training: <function recall at 0x00000199BCDFF048> ]\n",
      "TEST: [Iteracion:  0 Accuracy: 0.202797202797  F1 Score: 0.329411764706 Precision Test: 0.35 Recall Test: 0.311111111111 ]\n",
      "#####################\n",
      "TRAINING: [Iteracion:  50  Costo:  0.312486489487  Accuracy: 0.893333333333  F1 Score: 0.920792079208 Precision training: 0.861111111111 Recall training: <function recall at 0x00000199BCDFF048> ]\n",
      "TEST: [Iteracion:  50 Accuracy: 0.902097902098  F1 Score: 0.925531914894 Precision Test: 0.887755102041 Recall Test: 0.966666666667 ]\n",
      "#####################\n",
      "TRAINING: [Iteracion:  100  Costo:  0.269945966151  Accuracy: 0.9  F1 Score: 0.925373134328 Precision training: 0.869158878505 Recall training: <function recall at 0x00000199BCDFF048> ]\n",
      "TEST: [Iteracion:  100 Accuracy: 0.923076923077  F1 Score: 0.940540540541 Precision Test: 0.915789473684 Recall Test: 0.966666666667 ]\n",
      "#####################\n",
      "TRAINING: [Iteracion:  150  Costo:  0.256298524725  Accuracy: 0.9  F1 Score: 0.924623115578 Precision training: 0.87619047619 Recall training: <function recall at 0x00000199BCDFF048> ]\n",
      "TEST: [Iteracion:  150 Accuracy: 0.937062937063  F1 Score: 0.950819672131 Precision Test: 0.935483870968 Recall Test: 0.966666666667 ]\n",
      "#####################\n",
      "TRAINING: [Iteracion:  200  Costo:  0.249734229145  Accuracy: 0.92  F1 Score: 0.938775510204 Precision training: 0.901960784314 Recall training: <function recall at 0x00000199BCDFF048> ]\n",
      "TEST: [Iteracion:  200 Accuracy: 0.916083916084  F1 Score: 0.933333333333 Precision Test: 0.933333333333 Recall Test: 0.933333333333 ]\n",
      "#####################\n",
      "TRAINING: [Iteracion:  250  Costo:  0.246012906494  Accuracy: 0.913333333333  F1 Score: 0.933333333333 Precision training: 0.90099009901 Recall training: <function recall at 0x00000199BCDFF048> ]\n",
      "TEST: [Iteracion:  250 Accuracy: 0.916083916084  F1 Score: 0.932584269663 Precision Test: 0.943181818182 Recall Test: 0.922222222222 ]\n",
      "#####################\n",
      "TRAINING: [Iteracion:  300  Costo:  0.243706034984  Accuracy: 0.913333333333  F1 Score: 0.933333333333 Precision training: 0.90099009901 Recall training: <function recall at 0x00000199BCDFF048> ]\n",
      "TEST: [Iteracion:  300 Accuracy: 0.916083916084  F1 Score: 0.932584269663 Precision Test: 0.943181818182 Recall Test: 0.922222222222 ]\n",
      "#####################\n",
      "TRAINING: [Iteracion:  350  Costo:  0.242191661628  Accuracy: 0.913333333333  F1 Score: 0.933333333333 Precision training: 0.90099009901 Recall training: <function recall at 0x00000199BCDFF048> ]\n",
      "TEST: [Iteracion:  350 Accuracy: 0.916083916084  F1 Score: 0.932584269663 Precision Test: 0.943181818182 Recall Test: 0.922222222222 ]\n",
      "#####################\n",
      "TRAINING: [Iteracion:  400  Costo:  0.241156466743  Accuracy: 0.913333333333  F1 Score: 0.933333333333 Precision training: 0.90099009901 Recall training: <function recall at 0x00000199BCDFF048> ]\n",
      "TEST: [Iteracion:  400 Accuracy: 0.916083916084  F1 Score: 0.931818181818 Precision Test: 0.953488372093 Recall Test: 0.911111111111 ]\n",
      "#####################\n",
      "TRAINING: [Iteracion:  450  Costo:  0.240426919161  Accuracy: 0.913333333333  F1 Score: 0.933333333333 Precision training: 0.90099009901 Recall training: <function recall at 0x00000199BCDFF048> ]\n",
      "TEST: [Iteracion:  450 Accuracy: 0.916083916084  F1 Score: 0.931818181818 Precision Test: 0.953488372093 Recall Test: 0.911111111111 ]\n"
     ]
    }
   ],
   "source": [
    "modelo_1_theta_values, cost_vect, acc_vect, acc_vect_test = \\\n",
    "gradient_descent(X_train_features, Y_train_m1, theta_vector, alpha, iterations, X_test_features, y_test, 'modelo_1')"
   ]
  },
  {
   "cell_type": "code",
   "execution_count": 256,
   "metadata": {},
   "outputs": [
    {
     "data": {
      "image/png": "[encoded data removed]",
      "text/plain": [
       "<matplotlib.figure.Figure at 0x199bcc09320>"
      ]
     },
     "metadata": {},
     "output_type": "display_data"
    }
   ],
   "source": [
    "## Funcion para graficar el costo y  accuracy durante cada iteracion ##\n",
    "helper.training_graph(cost_vect, acc_vect, acc_vect_test)"
   ]
  },
  {
   "cell_type": "markdown",
   "metadata": {},
   "source": [
    "### Accuracy y Matriz de confusion Training Set\n",
    "\n",
    "![alt text](https://rasbt.github.io/mlxtend/user_guide/evaluate/confusion_matrix_files/confusion_matrix_1.png)"
   ]
  },
  {
   "cell_type": "code",
   "execution_count": 257,
   "metadata": {},
   "outputs": [
    {
     "name": "stdout",
     "output_type": "stream",
     "text": [
      "Accuracy: 91.3333333333 %\n",
      "\n",
      "Matriz de confusion\n"
     ]
    },
    {
     "data": {
      "text/plain": [
       "array([[46, 10],\n",
       "       [ 3, 91]], dtype=int64)"
      ]
     },
     "execution_count": 257,
     "metadata": {},
     "output_type": "execute_result"
    }
   ],
   "source": [
    "y_hat = get_hipotesis(X_train_features, modelo_1_theta_values)\n",
    "y_predict = np.array([1 if (y > 0.5) else 0 for y in y_hat])\n",
    "\n",
    "print('Accuracy:', accuracy_score(Y_train_m1,y_predict) * 100 ,'%')\n",
    "print()\n",
    "print('Matriz de confusion')\n",
    "confusion_matrix(Y_train_m1, y_predict )"
   ]
  },
  {
   "cell_type": "markdown",
   "metadata": {},
   "source": [
    "#### Accuracy con el Test set"
   ]
  },
  {
   "cell_type": "code",
   "execution_count": 258,
   "metadata": {
    "collapsed": true
   },
   "outputs": [],
   "source": [
    "y_predict = prediccion(X_test_features, modelo_1_theta_values, True)"
   ]
  },
  {
   "cell_type": "code",
   "execution_count": 259,
   "metadata": {},
   "outputs": [
    {
     "name": "stdout",
     "output_type": "stream",
     "text": [
      "Accuracy: 91.6083916084 %\n"
     ]
    }
   ],
   "source": [
    "print('Accuracy:',accuracy_score(y_test, y_predict)* 100 ,'%')"
   ]
  },
  {
   "cell_type": "markdown",
   "metadata": {},
   "source": [
    "#### Matriz de confusion Test Set"
   ]
  },
  {
   "cell_type": "code",
   "execution_count": 260,
   "metadata": {},
   "outputs": [
    {
     "data": {
      "text/plain": [
       "array([[49,  4],\n",
       "       [ 8, 82]], dtype=int64)"
      ]
     },
     "execution_count": 260,
     "metadata": {},
     "output_type": "execute_result"
    }
   ],
   "source": [
    "confusion_matrix(y_test, y_predict)"
   ]
  },
  {
   "cell_type": "code",
   "execution_count": 261,
   "metadata": {},
   "outputs": [
    {
     "name": "stdout",
     "output_type": "stream",
     "text": [
      "precision:  0.953488372093\n",
      "recall:  0.911111111111\n"
     ]
    }
   ],
   "source": [
    "print('precision: ',precision_score(y_test, y_predict))\n",
    "\n",
    "print('recall: ', recall_score(y_test, y_predict))"
   ]
  },
  {
   "cell_type": "markdown",
   "metadata": {},
   "source": [
    "## Entrenamiento modelo 2"
   ]
  },
  {
   "cell_type": "markdown",
   "metadata": {},
   "source": [
    "#### Sampleo bootstrap"
   ]
  },
  {
   "cell_type": "code",
   "execution_count": 262,
   "metadata": {
    "collapsed": true
   },
   "outputs": [],
   "source": [
    "'''\n",
    "Ingresa en la lista el nombre de las fatrues que quieres utlizar en este modelo (~1 linea)\n",
    "'''\n",
    "X_train_m2, Y_train_m2 = resample(X_train, y_train, n_samples = 400)"
   ]
  },
  {
   "cell_type": "markdown",
   "metadata": {},
   "source": [
    "### Filtrar Features\n",
    "Solo seleccionar los features"
   ]
  },
  {
   "cell_type": "code",
   "execution_count": 263,
   "metadata": {
    "collapsed": true
   },
   "outputs": [],
   "source": [
    "features_filtro = ['worst radius', 'worst texture', 'worst compactness', 'worst concave points',\n",
    "       'worst smoothness']"
   ]
  },
  {
   "cell_type": "code",
   "execution_count": 264,
   "metadata": {},
   "outputs": [],
   "source": [
    "X_train_m2 = helper.fitrar_nombre(X_train_m2,data.feature_names,features_filtro)\n",
    "X_test_features = helper.fitrar_nombre(X_test,data.feature_names,features_filtro)"
   ]
  },
  {
   "cell_type": "code",
   "execution_count": 265,
   "metadata": {
    "collapsed": true
   },
   "outputs": [],
   "source": [
    "## Numero de iteracions ##\n",
    "iterations = 600  # Define el numero de iteraciones #\n",
    "\n",
    "## Alpha ##\n",
    "alpha = 0.1 # Define el valor de alpha #\n",
    "\n",
    "#### No hay que cambiar el codigo despues de esta linea #####\n",
    "## Numero de feautres ##\n",
    "numero_features = X_train_m2.shape[1] + 1\n",
    "\n",
    "## Creamos un vector donde se almacenan los valores de Theta,\n",
    "## lo inicializamos con numeros aleatorios\n",
    "theta_vector = np.random.rand(numero_features)\n",
    "\n",
    "## Normaliza las features de X_train_features (~1 linea) ##\n",
    "X_train_m2 = normalizar(X_train_m2)\n",
    "\n",
    "# Creando la Matriz X de features, \n",
    "# utilizamos np.ones para agregar el valor constante '1' que es el bias o feature 0\n",
    "X_train_features = np.ones((X_train_m2.shape[0], numero_features))\n",
    "X_train_features[:,:-1] = X_train_m2"
   ]
  },
  {
   "cell_type": "code",
   "execution_count": 266,
   "metadata": {},
   "outputs": [
    {
     "name": "stdout",
     "output_type": "stream",
     "text": [
      "#####################\n",
      "TRAINING: [Iteracion:  0  Costo:  1.68461108244  Accuracy: 0.1225  F1 Score: 0.214765100671 Precision training: 0.243654822335 Recall training: <function recall at 0x00000199BCDFF048> ]\n",
      "TEST: [Iteracion:  0 Accuracy: 0.13986013986  F1 Score: 0.245398773006 Precision Test: 0.27397260274 Recall Test: 0.222222222222 ]\n",
      "#####################\n",
      "TRAINING: [Iteracion:  50  Costo:  0.246308751172  Accuracy: 0.9375  F1 Score: 0.952015355086 Precision training: 0.915129151292 Recall training: <function recall at 0x00000199BCDFF048> ]\n",
      "TEST: [Iteracion:  50 Accuracy: 0.895104895105  F1 Score: 0.919786096257 Precision Test: 0.886597938144 Recall Test: 0.955555555556 ]\n",
      "#####################\n",
      "TRAINING: [Iteracion:  100  Costo:  0.179273147194  Accuracy: 0.9475  F1 Score: 0.959223300971 Precision training: 0.932075471698 Recall training: <function recall at 0x00000199BCDFF048> ]\n",
      "TEST: [Iteracion:  100 Accuracy: 0.923076923077  F1 Score: 0.939890710383 Precision Test: 0.924731182796 Recall Test: 0.955555555556 ]\n",
      "#####################\n",
      "TRAINING: [Iteracion:  150  Costo:  0.151764046949  Accuracy: 0.9475  F1 Score: 0.959223300971 Precision training: 0.932075471698 Recall training: <function recall at 0x00000199BCDFF048> ]\n",
      "TEST: [Iteracion:  150 Accuracy: 0.93006993007  F1 Score: 0.945054945055 Precision Test: 0.934782608696 Recall Test: 0.955555555556 ]\n",
      "#####################\n",
      "TRAINING: [Iteracion:  200  Costo:  0.135436951453  Accuracy: 0.9525  F1 Score: 0.962962962963 Precision training: 0.939163498099 Recall training: <function recall at 0x00000199BCDFF048> ]\n",
      "TEST: [Iteracion:  200 Accuracy: 0.937062937063  F1 Score: 0.950276243094 Precision Test: 0.945054945055 Recall Test: 0.955555555556 ]\n",
      "#####################\n",
      "TRAINING: [Iteracion:  250  Costo:  0.12419097683  Accuracy: 0.9525  F1 Score: 0.962962962963 Precision training: 0.939163498099 Recall training: <function recall at 0x00000199BCDFF048> ]\n",
      "TEST: [Iteracion:  250 Accuracy: 0.937062937063  F1 Score: 0.950276243094 Precision Test: 0.945054945055 Recall Test: 0.955555555556 ]\n",
      "#####################\n",
      "TRAINING: [Iteracion:  300  Costo:  0.115793176062  Accuracy: 0.9525  F1 Score: 0.962962962963 Precision training: 0.939163498099 Recall training: <function recall at 0x00000199BCDFF048> ]\n",
      "TEST: [Iteracion:  300 Accuracy: 0.937062937063  F1 Score: 0.950276243094 Precision Test: 0.945054945055 Recall Test: 0.955555555556 ]\n",
      "#####################\n",
      "TRAINING: [Iteracion:  350  Costo:  0.109195474872  Accuracy: 0.9525  F1 Score: 0.962962962963 Precision training: 0.939163498099 Recall training: <function recall at 0x00000199BCDFF048> ]\n",
      "TEST: [Iteracion:  350 Accuracy: 0.937062937063  F1 Score: 0.950276243094 Precision Test: 0.945054945055 Recall Test: 0.955555555556 ]\n",
      "#####################\n",
      "TRAINING: [Iteracion:  400  Costo:  0.10382719786  Accuracy: 0.96  F1 Score: 0.96862745098 Precision training: 0.95 Recall training: <function recall at 0x00000199BCDFF048> ]\n",
      "TEST: [Iteracion:  400 Accuracy: 0.944055944056  F1 Score: 0.955555555556 Precision Test: 0.955555555556 Recall Test: 0.955555555556 ]\n",
      "#####################\n",
      "TRAINING: [Iteracion:  450  Costo:  0.099345329441  Accuracy: 0.96  F1 Score: 0.96862745098 Precision training: 0.95 Recall training: <function recall at 0x00000199BCDFF048> ]\n",
      "TEST: [Iteracion:  450 Accuracy: 0.944055944056  F1 Score: 0.955555555556 Precision Test: 0.955555555556 Recall Test: 0.955555555556 ]\n",
      "#####################\n",
      "TRAINING: [Iteracion:  500  Costo:  0.0955286743985  Accuracy: 0.96  F1 Score: 0.96862745098 Precision training: 0.95 Recall training: <function recall at 0x00000199BCDFF048> ]\n",
      "TEST: [Iteracion:  500 Accuracy: 0.944055944056  F1 Score: 0.955555555556 Precision Test: 0.955555555556 Recall Test: 0.955555555556 ]\n",
      "#####################\n",
      "TRAINING: [Iteracion:  550  Costo:  0.0922269060289  Accuracy: 0.9725  F1 Score: 0.978217821782 Precision training: 0.96862745098 Recall training: <function recall at 0x00000199BCDFF048> ]\n",
      "TEST: [Iteracion:  550 Accuracy: 0.958041958042  F1 Score: 0.966666666667 Precision Test: 0.966666666667 Recall Test: 0.966666666667 ]\n"
     ]
    }
   ],
   "source": [
    "## Llama a la funcion de gradient descent, recurda definir un nombre diferente para el modelo (~1 linea) ##\n",
    "modelo_2_theta_values, cost_vect, acc_vect, acc_vect_test = \\\n",
    "gradient_descent(X_train_features, Y_train_m2, theta_vector, alpha, iterations, X_test_features, y_test, 'modelo_2')\n",
    "### FIN ##"
   ]
  },
  {
   "cell_type": "code",
   "execution_count": 267,
   "metadata": {},
   "outputs": [
    {
     "data": {
      "image/png": "[encoded data removed]",
      "text/plain": [
       "<matplotlib.figure.Figure at 0x199bce20b70>"
      ]
     },
     "metadata": {},
     "output_type": "display_data"
    }
   ],
   "source": [
    "## Funcion para graficar el costo y  accuracy durante cada iteracion ##\n",
    "helper.training_graph(cost_vect, acc_vect, acc_vect_test)"
   ]
  },
  {
   "cell_type": "markdown",
   "metadata": {},
   "source": [
    "#### Accuracy con el Test set [Modelo 2]"
   ]
  },
  {
   "cell_type": "code",
   "execution_count": 268,
   "metadata": {
    "collapsed": true
   },
   "outputs": [],
   "source": [
    "y_predict = prediccion(X_test_features, modelo_2_theta_values, True)"
   ]
  },
  {
   "cell_type": "code",
   "execution_count": 269,
   "metadata": {},
   "outputs": [
    {
     "name": "stdout",
     "output_type": "stream",
     "text": [
      "Accuracy: 95.8041958042 %\n"
     ]
    }
   ],
   "source": [
    "print('Accuracy:',accuracy_score(y_test, y_predict)* 100 ,'%')"
   ]
  },
  {
   "cell_type": "markdown",
   "metadata": {},
   "source": [
    "#### Matriz de confusion Test Set [Modelo 2]"
   ]
  },
  {
   "cell_type": "code",
   "execution_count": 270,
   "metadata": {},
   "outputs": [
    {
     "data": {
      "text/plain": [
       "array([[50,  3],\n",
       "       [ 3, 87]], dtype=int64)"
      ]
     },
     "execution_count": 270,
     "metadata": {},
     "output_type": "execute_result"
    }
   ],
   "source": [
    "confusion_matrix(y_test, y_predict)"
   ]
  },
  {
   "cell_type": "code",
   "execution_count": 271,
   "metadata": {},
   "outputs": [
    {
     "name": "stdout",
     "output_type": "stream",
     "text": [
      "precision:  0.966666666667\n",
      "recall:  0.966666666667\n"
     ]
    }
   ],
   "source": [
    "print('precision: ',precision_score(y_test, y_predict))\n",
    "\n",
    "print('recall: ', recall_score(y_test, y_predict))"
   ]
  },
  {
   "cell_type": "markdown",
   "metadata": {},
   "source": [
    "## Entrenamiento modelo 3"
   ]
  },
  {
   "cell_type": "markdown",
   "metadata": {},
   "source": [
    "#### Sampleo bootstrap"
   ]
  },
  {
   "cell_type": "code",
   "execution_count": 272,
   "metadata": {
    "collapsed": true
   },
   "outputs": [],
   "source": [
    "X_train_m3, Y_train_m3 = resample(X_train, y_train, n_samples = 460)"
   ]
  },
  {
   "cell_type": "markdown",
   "metadata": {},
   "source": [
    "### Filtrar Features\n",
    "Solo seleccionar los features"
   ]
  },
  {
   "cell_type": "code",
   "execution_count": 273,
   "metadata": {
    "collapsed": true
   },
   "outputs": [],
   "source": [
    "'''\n",
    "Ingresa en la lista el nombre de las fatrues que quieres utlizar en este modelo (~1 linea)\n",
    "'''\n",
    "features_filtro = ['mean radius', 'radius error', 'worst radius', 'mean symmetry', 'symmetry error']"
   ]
  },
  {
   "cell_type": "code",
   "execution_count": 274,
   "metadata": {
    "collapsed": true
   },
   "outputs": [],
   "source": [
    "X_train_m3 = helper.fitrar_nombre(X_train_m3,data.feature_names,features_filtro)\n",
    "X_test_features = helper.fitrar_nombre(X_test,data.feature_names,features_filtro)"
   ]
  },
  {
   "cell_type": "code",
   "execution_count": 275,
   "metadata": {
    "collapsed": true
   },
   "outputs": [],
   "source": [
    "## Numero de iteracions ##\n",
    "iterations = 1000  # Define el numero de iteraciones #\n",
    "\n",
    "## Alpha ##\n",
    "alpha = 0.05 # Define el valor de alpha #\n",
    "\n",
    "#### No hay que cambiar el codigo despues de esta linea #####\n",
    "## Numero de feautres ##\n",
    "numero_features = X_train_m3.shape[1] + 1\n",
    "\n",
    "## Creamos un vector donde se almacenan los valores de Theta,\n",
    "## lo inicializamos con numeros aleatorios\n",
    "theta_vector = np.random.rand(numero_features)\n",
    "\n",
    "## Normaliza las features de X_train_features (~1 linea) ##\n",
    "X_train_m3 = normalizar(X_train_m3)\n",
    "\n",
    "# Creando la Matriz X de features, \n",
    "# utilizamos np.ones para agregar el valor constante '1' que es el bias o feature 0\n",
    "X_train_features = np.ones((X_train_m3.shape[0], numero_features))\n",
    "X_train_features[:,:-1] = X_train_m3"
   ]
  },
  {
   "cell_type": "code",
   "execution_count": 276,
   "metadata": {},
   "outputs": [
    {
     "name": "stdout",
     "output_type": "stream",
     "text": [
      "#####################\n",
      "TRAINING: [Iteracion:  0  Costo:  1.44722711131  Accuracy: 0.271739130435  F1 Score: 0.402852049911 Precision training: 0.416974169742 Recall training: <function recall at 0x00000199BCDFF048> ]\n",
      "TEST: [Iteracion:  0 Accuracy: 0.307692307692  F1 Score: 0.440677966102 Precision Test: 0.448275862069 Recall Test: 0.433333333333 ]\n",
      "#####################\n",
      "TRAINING: [Iteracion:  50  Costo:  0.430379204773  Accuracy: 0.841304347826  F1 Score: 0.885758998435 Precision training: 0.810888252149 Recall training: <function recall at 0x00000199BCDFF048> ]\n",
      "TEST: [Iteracion:  50 Accuracy: 0.846153846154  F1 Score: 0.891089108911 Precision Test: 0.803571428571 Recall Test: 1.0 ]\n",
      "#####################\n",
      "TRAINING: [Iteracion:  100  Costo:  0.297501804168  Accuracy: 0.9  F1 Score: 0.925566343042 Precision training: 0.871951219512 Recall training: <function recall at 0x00000199BCDFF048> ]\n",
      "TEST: [Iteracion:  100 Accuracy: 0.881118881119  F1 Score: 0.913705583756 Precision Test: 0.841121495327 Recall Test: 1.0 ]\n",
      "#####################\n",
      "TRAINING: [Iteracion:  150  Costo:  0.252108303582  Accuracy: 0.895652173913  F1 Score: 0.921824104235 Precision training: 0.873456790123 Recall training: <function recall at 0x00000199BCDFF048> ]\n",
      "TEST: [Iteracion:  150 Accuracy: 0.895104895105  F1 Score: 0.923076923077 Precision Test: 0.857142857143 Recall Test: 1.0 ]\n",
      "#####################\n",
      "TRAINING: [Iteracion:  200  Costo:  0.227864012178  Accuracy: 0.917391304348  F1 Score: 0.937086092715 Precision training: 0.90127388535 Recall training: <function recall at 0x00000199BCDFF048> ]\n",
      "TEST: [Iteracion:  200 Accuracy: 0.909090909091  F1 Score: 0.932642487047 Precision Test: 0.873786407767 Recall Test: 1.0 ]\n",
      "#####################\n",
      "TRAINING: [Iteracion:  250  Costo:  0.212391360592  Accuracy: 0.917391304348  F1 Score: 0.936877076412 Precision training: 0.903846153846 Recall training: <function recall at 0x00000199BCDFF048> ]\n",
      "TEST: [Iteracion:  250 Accuracy: 0.916083916084  F1 Score: 0.9375 Precision Test: 0.882352941176 Recall Test: 1.0 ]\n",
      "#####################\n",
      "TRAINING: [Iteracion:  300  Costo:  0.201542354035  Accuracy: 0.921739130435  F1 Score: 0.939799331104 Precision training: 0.912337662338 Recall training: <function recall at 0x00000199BCDFF048> ]\n",
      "TEST: [Iteracion:  300 Accuracy: 0.916083916084  F1 Score: 0.9375 Precision Test: 0.882352941176 Recall Test: 1.0 ]\n",
      "#####################\n",
      "TRAINING: [Iteracion:  350  Costo:  0.19347106244  Accuracy: 0.921739130435  F1 Score: 0.939799331104 Precision training: 0.912337662338 Recall training: <function recall at 0x00000199BCDFF048> ]\n",
      "TEST: [Iteracion:  350 Accuracy: 0.916083916084  F1 Score: 0.9375 Precision Test: 0.882352941176 Recall Test: 1.0 ]\n",
      "#####################\n",
      "TRAINING: [Iteracion:  400  Costo:  0.187213952103  Accuracy: 0.921739130435  F1 Score: 0.939597315436 Precision training: 0.915032679739 Recall training: <function recall at 0x00000199BCDFF048> ]\n",
      "TEST: [Iteracion:  400 Accuracy: 0.916083916084  F1 Score: 0.936842105263 Precision Test: 0.89 Recall Test: 0.988888888889 ]\n",
      "#####################\n",
      "TRAINING: [Iteracion:  450  Costo:  0.182213437893  Accuracy: 0.919565217391  F1 Score: 0.93760539629 Precision training: 0.917491749175 Recall training: <function recall at 0x00000199BCDFF048> ]\n",
      "TEST: [Iteracion:  450 Accuracy: 0.916083916084  F1 Score: 0.936842105263 Precision Test: 0.89 Recall Test: 0.988888888889 ]\n",
      "#####################\n",
      "TRAINING: [Iteracion:  500  Costo:  0.17812230666  Accuracy: 0.928260869565  F1 Score: 0.943972835314 Precision training: 0.929765886288 Recall training: <function recall at 0x00000199BCDFF048> ]\n",
      "TEST: [Iteracion:  500 Accuracy: 0.909090909091  F1 Score: 0.930481283422 Precision Test: 0.896907216495 Recall Test: 0.966666666667 ]\n",
      "#####################\n",
      "TRAINING: [Iteracion:  550  Costo:  0.174712042837  Accuracy: 0.928260869565  F1 Score: 0.943972835314 Precision training: 0.929765886288 Recall training: <function recall at 0x00000199BCDFF048> ]\n",
      "TEST: [Iteracion:  550 Accuracy: 0.902097902098  F1 Score: 0.924731182796 Precision Test: 0.895833333333 Recall Test: 0.955555555556 ]\n",
      "#####################\n",
      "TRAINING: [Iteracion:  600  Costo:  0.171825575234  Accuracy: 0.928260869565  F1 Score: 0.943972835314 Precision training: 0.929765886288 Recall training: <function recall at 0x00000199BCDFF048> ]\n",
      "TEST: [Iteracion:  600 Accuracy: 0.895104895105  F1 Score: 0.918918918919 Precision Test: 0.894736842105 Recall Test: 0.944444444444 ]\n",
      "#####################\n",
      "TRAINING: [Iteracion:  650  Costo:  0.169351093252  Accuracy: 0.928260869565  F1 Score: 0.943972835314 Precision training: 0.929765886288 Recall training: <function recall at 0x00000199BCDFF048> ]\n",
      "TEST: [Iteracion:  650 Accuracy: 0.902097902098  F1 Score: 0.923913043478 Precision Test: 0.904255319149 Recall Test: 0.944444444444 ]\n",
      "#####################\n",
      "TRAINING: [Iteracion:  700  Costo:  0.167206678699  Accuracy: 0.928260869565  F1 Score: 0.943972835314 Precision training: 0.929765886288 Recall training: <function recall at 0x00000199BCDFF048> ]\n",
      "TEST: [Iteracion:  700 Accuracy: 0.902097902098  F1 Score: 0.923913043478 Precision Test: 0.904255319149 Recall Test: 0.944444444444 ]\n",
      "#####################\n",
      "TRAINING: [Iteracion:  750  Costo:  0.165330850254  Accuracy: 0.928260869565  F1 Score: 0.943972835314 Precision training: 0.929765886288 Recall training: <function recall at 0x00000199BCDFF048> ]\n",
      "TEST: [Iteracion:  750 Accuracy: 0.902097902098  F1 Score: 0.923913043478 Precision Test: 0.904255319149 Recall Test: 0.944444444444 ]\n",
      "#####################\n",
      "TRAINING: [Iteracion:  800  Costo:  0.163676511877  Accuracy: 0.928260869565  F1 Score: 0.943972835314 Precision training: 0.929765886288 Recall training: <function recall at 0x00000199BCDFF048> ]\n",
      "TEST: [Iteracion:  800 Accuracy: 0.902097902098  F1 Score: 0.923913043478 Precision Test: 0.904255319149 Recall Test: 0.944444444444 ]\n",
      "#####################\n",
      "TRAINING: [Iteracion:  850  Costo:  0.162206947971  Accuracy: 0.930434782609  F1 Score: 0.945578231293 Precision training: 0.93288590604 Recall training: <function recall at 0x00000199BCDFF048> ]\n",
      "TEST: [Iteracion:  850 Accuracy: 0.902097902098  F1 Score: 0.923913043478 Precision Test: 0.904255319149 Recall Test: 0.944444444444 ]\n",
      "#####################\n",
      "TRAINING: [Iteracion:  900  Costo:  0.160893095788  Accuracy: 0.932608695652  F1 Score: 0.947189097104 Precision training: 0.936026936027 Recall training: <function recall at 0x00000199BCDFF048> ]\n",
      "TEST: [Iteracion:  900 Accuracy: 0.902097902098  F1 Score: 0.923913043478 Precision Test: 0.904255319149 Recall Test: 0.944444444444 ]\n",
      "#####################\n",
      "TRAINING: [Iteracion:  950  Costo:  0.159711640876  Accuracy: 0.932608695652  F1 Score: 0.947189097104 Precision training: 0.936026936027 Recall training: <function recall at 0x00000199BCDFF048> ]\n",
      "TEST: [Iteracion:  950 Accuracy: 0.902097902098  F1 Score: 0.923913043478 Precision Test: 0.904255319149 Recall Test: 0.944444444444 ]\n"
     ]
    }
   ],
   "source": [
    "## Llama a la funcion de gradient descent, recurda definir un nombre diferente para el modelo (~1 linea) ##\n",
    "modelo_3_theta_values, cost_vect, acc_vect, acc_vect_test = \\\n",
    "gradient_descent(X_train_features, Y_train_m3, theta_vector, alpha, iterations, X_test_features, y_test, 'modelo_3')\n",
    "### FIN "
   ]
  },
  {
   "cell_type": "code",
   "execution_count": 277,
   "metadata": {},
   "outputs": [
    {
     "data": {
      "image/png": "[encoded data removed]",
      "text/plain": [
       "<matplotlib.figure.Figure at 0x199bce957b8>"
      ]
     },
     "metadata": {},
     "output_type": "display_data"
    }
   ],
   "source": [
    "## Funcion para graficar el costo y  accuracy durante cada iteracion\n",
    "helper.training_graph(cost_vect, acc_vect, acc_vect_test)"
   ]
  },
  {
   "cell_type": "markdown",
   "metadata": {},
   "source": [
    "#### Accuracy con el Test set [Modelo 3]"
   ]
  },
  {
   "cell_type": "code",
   "execution_count": 278,
   "metadata": {
    "collapsed": true
   },
   "outputs": [],
   "source": [
    "y_predict = prediccion(X_test_features, modelo_3_theta_values, True)"
   ]
  },
  {
   "cell_type": "code",
   "execution_count": 279,
   "metadata": {},
   "outputs": [
    {
     "name": "stdout",
     "output_type": "stream",
     "text": [
      "Accuracy: 90.2097902098 %\n"
     ]
    }
   ],
   "source": [
    "print('Accuracy:',accuracy_score(y_test, y_predict)* 100 ,'%')"
   ]
  },
  {
   "cell_type": "markdown",
   "metadata": {},
   "source": [
    "#### Matriz de confusion Test Set [Modelo 3]"
   ]
  },
  {
   "cell_type": "code",
   "execution_count": 280,
   "metadata": {
    "scrolled": true
   },
   "outputs": [
    {
     "data": {
      "text/plain": [
       "array([[44,  9],\n",
       "       [ 5, 85]], dtype=int64)"
      ]
     },
     "execution_count": 280,
     "metadata": {},
     "output_type": "execute_result"
    }
   ],
   "source": [
    "confusion_matrix(y_test, y_predict)"
   ]
  },
  {
   "cell_type": "code",
   "execution_count": 281,
   "metadata": {},
   "outputs": [
    {
     "name": "stdout",
     "output_type": "stream",
     "text": [
      "precision:  0.904255319149\n",
      "recall:  0.944444444444\n"
     ]
    }
   ],
   "source": [
    "print('precision: ',precision_score(y_test, y_predict))\n",
    "\n",
    "print('recall: ', recall_score(y_test, y_predict))"
   ]
  },
  {
   "cell_type": "markdown",
   "metadata": {},
   "source": [
    "## Entrenamiento modelo 4"
   ]
  },
  {
   "cell_type": "markdown",
   "metadata": {},
   "source": [
    "#### Sampleo bootstrap"
   ]
  },
  {
   "cell_type": "code",
   "execution_count": 282,
   "metadata": {
    "collapsed": true
   },
   "outputs": [],
   "source": [
    "X_train_m4, Y_train_m4 = resample(X_train, y_train, n_samples = 460)"
   ]
  },
  {
   "cell_type": "markdown",
   "metadata": {},
   "source": [
    "### Filtrar Features\n",
    "Solo seleccionar los features"
   ]
  },
  {
   "cell_type": "code",
   "execution_count": 283,
   "metadata": {
    "collapsed": true
   },
   "outputs": [],
   "source": [
    "'''\n",
    "Ingresa en la lista el nombre de las fatrues que quieres utlizar en este modelo (~1 linea)\n",
    "'''\n",
    "features_filtro = ['mean texture','mean smoothness','texture error','smoothness error','worst smoothness']"
   ]
  },
  {
   "cell_type": "code",
   "execution_count": 284,
   "metadata": {
    "collapsed": true
   },
   "outputs": [],
   "source": [
    "X_train_m4 = helper.fitrar_nombre(X_train_m4,data.feature_names,features_filtro)\n",
    "X_test_features = helper.fitrar_nombre(X_test,data.feature_names,features_filtro)"
   ]
  },
  {
   "cell_type": "code",
   "execution_count": 285,
   "metadata": {
    "collapsed": true
   },
   "outputs": [],
   "source": [
    "## Numero de iteracions ##\n",
    "iterations = 700 # Define el numero de iteraciones #\n",
    "\n",
    "## Alpha ##\n",
    "alpha = 0.08 # Define el valor de alpha #\n",
    "\n",
    "#### No hay que cambiar el codigo despues de esta linea #####\n",
    "## Numero de feautres ##\n",
    "numero_features = X_train_m4.shape[1] + 1\n",
    "\n",
    "## Creamos un vector donde se almacenan los valores de Theta,\n",
    "## lo inicializamos con numeros aleatorios\n",
    "theta_vector = np.random.rand(numero_features)\n",
    "\n",
    "## Normaliza las features de X_train_features (~1 linea) ##\n",
    "X_train_m4 = normalizar(X_train_m4)\n",
    "\n",
    "# Creando la Matriz X de features\n",
    "X_train_features = np.ones((X_train_m4.shape[0], numero_features))\n",
    "X_train_features[:,:-1] = X_train_m4"
   ]
  },
  {
   "cell_type": "code",
   "execution_count": 286,
   "metadata": {
    "scrolled": true
   },
   "outputs": [
    {
     "name": "stdout",
     "output_type": "stream",
     "text": [
      "#####################\n",
      "TRAINING: [Iteracion:  0  Costo:  1.0293197295  Accuracy: 0.371739130435  F1 Score: 0.525451559934 Precision training: 0.479041916168 Recall training: <function recall at 0x00000199BCDFF048> ]\n",
      "TEST: [Iteracion:  0 Accuracy: 0.41958041958  F1 Score: 0.569948186528 Precision Test: 0.533980582524 Recall Test: 0.611111111111 ]\n",
      "#####################\n",
      "TRAINING: [Iteracion:  50  Costo:  0.505501882022  Accuracy: 0.804347826087  F1 Score: 0.85342019544 Precision training: 0.772861356932 Recall training: <function recall at 0x00000199BCDFF048> ]\n",
      "TEST: [Iteracion:  50 Accuracy: 0.748251748252  F1 Score: 0.823529411765 Precision Test: 0.736842105263 Recall Test: 0.933333333333 ]\n",
      "#####################\n",
      "TRAINING: [Iteracion:  100  Costo:  0.432389991969  Accuracy: 0.830434782609  F1 Score: 0.867346938776 Precision training: 0.814696485623 Recall training: <function recall at 0x00000199BCDFF048> ]\n",
      "TEST: [Iteracion:  100 Accuracy: 0.762237762238  F1 Score: 0.824742268041 Precision Test: 0.769230769231 Recall Test: 0.888888888889 ]\n",
      "#####################\n",
      "TRAINING: [Iteracion:  150  Costo:  0.406772937853  Accuracy: 0.85  F1 Score: 0.880829015544 Precision training: 0.838815789474 Recall training: <function recall at 0x00000199BCDFF048> ]\n",
      "TEST: [Iteracion:  150 Accuracy: 0.762237762238  F1 Score: 0.822916666667 Precision Test: 0.774509803922 Recall Test: 0.877777777778 ]\n",
      "#####################\n",
      "TRAINING: [Iteracion:  200  Costo:  0.394246198502  Accuracy: 0.852173913043  F1 Score: 0.881533101045 Precision training: 0.846153846154 Recall training: <function recall at 0x00000199BCDFF048> ]\n",
      "TEST: [Iteracion:  200 Accuracy: 0.755244755245  F1 Score: 0.814814814815 Precision Test: 0.777777777778 Recall Test: 0.855555555556 ]\n",
      "#####################\n",
      "TRAINING: [Iteracion:  250  Costo:  0.387177712043  Accuracy: 0.858695652174  F1 Score: 0.886164623468 Precision training: 0.85472972973 Recall training: <function recall at 0x00000199BCDFF048> ]\n",
      "TEST: [Iteracion:  250 Accuracy: 0.762237762238  F1 Score: 0.81914893617 Precision Test: 0.785714285714 Recall Test: 0.855555555556 ]\n",
      "#####################\n",
      "TRAINING: [Iteracion:  300  Costo:  0.382852940029  Accuracy: 0.852173913043  F1 Score: 0.879858657244 Precision training: 0.855670103093 Recall training: <function recall at 0x00000199BCDFF048> ]\n",
      "TEST: [Iteracion:  300 Accuracy: 0.762237762238  F1 Score: 0.817204301075 Precision Test: 0.791666666667 Recall Test: 0.844444444444 ]\n",
      "#####################\n",
      "TRAINING: [Iteracion:  350  Costo:  0.380064214117  Accuracy: 0.852173913043  F1 Score: 0.879858657244 Precision training: 0.855670103093 Recall training: <function recall at 0x00000199BCDFF048> ]\n",
      "TEST: [Iteracion:  350 Accuracy: 0.769230769231  F1 Score: 0.821621621622 Precision Test: 0.8 Recall Test: 0.844444444444 ]\n",
      "#####################\n",
      "TRAINING: [Iteracion:  400  Costo:  0.378198444895  Accuracy: 0.854347826087  F1 Score: 0.881834215168 Precision training: 0.856164383562 Recall training: <function recall at 0x00000199BCDFF048> ]\n",
      "TEST: [Iteracion:  400 Accuracy: 0.769230769231  F1 Score: 0.821621621622 Precision Test: 0.8 Recall Test: 0.844444444444 ]\n",
      "#####################\n",
      "TRAINING: [Iteracion:  450  Costo:  0.376915716397  Accuracy: 0.854347826087  F1 Score: 0.881834215168 Precision training: 0.856164383562 Recall training: <function recall at 0x00000199BCDFF048> ]\n",
      "TEST: [Iteracion:  450 Accuracy: 0.769230769231  F1 Score: 0.821621621622 Precision Test: 0.8 Recall Test: 0.844444444444 ]\n",
      "#####################\n",
      "TRAINING: [Iteracion:  500  Costo:  0.376015262207  Accuracy: 0.858695652174  F1 Score: 0.884955752212 Precision training: 0.862068965517 Recall training: <function recall at 0x00000199BCDFF048> ]\n",
      "TEST: [Iteracion:  500 Accuracy: 0.769230769231  F1 Score: 0.821621621622 Precision Test: 0.8 Recall Test: 0.844444444444 ]\n",
      "#####################\n",
      "TRAINING: [Iteracion:  550  Costo:  0.375372723915  Accuracy: 0.858695652174  F1 Score: 0.884135472371 Precision training: 0.867132867133 Recall training: <function recall at 0x00000199BCDFF048> ]\n",
      "TEST: [Iteracion:  550 Accuracy: 0.769230769231  F1 Score: 0.821621621622 Precision Test: 0.8 Recall Test: 0.844444444444 ]\n",
      "#####################\n",
      "TRAINING: [Iteracion:  600  Costo:  0.374908169816  Accuracy: 0.858695652174  F1 Score: 0.884135472371 Precision training: 0.867132867133 Recall training: <function recall at 0x00000199BCDFF048> ]\n",
      "TEST: [Iteracion:  600 Accuracy: 0.769230769231  F1 Score: 0.821621621622 Precision Test: 0.8 Recall Test: 0.844444444444 ]\n",
      "#####################\n",
      "TRAINING: [Iteracion:  650  Costo:  0.374568688823  Accuracy: 0.858695652174  F1 Score: 0.884135472371 Precision training: 0.867132867133 Recall training: <function recall at 0x00000199BCDFF048> ]\n",
      "TEST: [Iteracion:  650 Accuracy: 0.769230769231  F1 Score: 0.821621621622 Precision Test: 0.8 Recall Test: 0.844444444444 ]\n"
     ]
    }
   ],
   "source": [
    "## Llama a la funcion de gradient descent, recurda definir un nombre diferente para el modelo (~1 linea) ##\n",
    "modelo_4_theta_values, cost_vect, acc_vect, acc_vect_test = \\\n",
    "gradient_descent(X_train_features, Y_train_m4, theta_vector, alpha, iterations, X_test_features, y_test, 'modelo_4')"
   ]
  },
  {
   "cell_type": "code",
   "execution_count": 287,
   "metadata": {},
   "outputs": [
    {
     "data": {
      "image/png": "[encoded data removed]",
      "text/plain": [
       "<matplotlib.figure.Figure at 0x199bcd2a278>"
      ]
     },
     "metadata": {},
     "output_type": "display_data"
    }
   ],
   "source": [
    "## Funcion para graficar el costo y  accuracy durante cada iteracion ##\n",
    "helper.training_graph(cost_vect, acc_vect, acc_vect_test)"
   ]
  },
  {
   "cell_type": "markdown",
   "metadata": {},
   "source": [
    "#### Accuracy con el Test set [Modelo 4]"
   ]
  },
  {
   "cell_type": "code",
   "execution_count": 288,
   "metadata": {
    "collapsed": true
   },
   "outputs": [],
   "source": [
    "y_predict = prediccion(X_test_features, modelo_4_theta_values, True)"
   ]
  },
  {
   "cell_type": "code",
   "execution_count": 289,
   "metadata": {
    "scrolled": false
   },
   "outputs": [
    {
     "name": "stdout",
     "output_type": "stream",
     "text": [
      "Accuracy: 76.9230769231 %\n"
     ]
    }
   ],
   "source": [
    "print('Accuracy:',accuracy_score(y_test, y_predict)* 100 ,'%')"
   ]
  },
  {
   "cell_type": "markdown",
   "metadata": {},
   "source": [
    "#### Matriz de confusion Test Set [Modelo 4]"
   ]
  },
  {
   "cell_type": "code",
   "execution_count": 290,
   "metadata": {
    "scrolled": true
   },
   "outputs": [
    {
     "data": {
      "text/plain": [
       "array([[34, 19],\n",
       "       [14, 76]], dtype=int64)"
      ]
     },
     "execution_count": 290,
     "metadata": {},
     "output_type": "execute_result"
    }
   ],
   "source": [
    "confusion_matrix(y_test, y_predict)"
   ]
  },
  {
   "cell_type": "code",
   "execution_count": 291,
   "metadata": {},
   "outputs": [
    {
     "name": "stdout",
     "output_type": "stream",
     "text": [
      "precision:  0.8\n",
      "recall:  0.844444444444\n"
     ]
    }
   ],
   "source": [
    "print('precision: ',precision_score(y_test, y_predict))\n",
    "\n",
    "print('recall: ', recall_score(y_test, y_predict))"
   ]
  },
  {
   "cell_type": "markdown",
   "metadata": {},
   "source": [
    "## Entrenamiento modelo 5"
   ]
  },
  {
   "cell_type": "markdown",
   "metadata": {},
   "source": [
    "#### Sampleo bootstrap"
   ]
  },
  {
   "cell_type": "code",
   "execution_count": 292,
   "metadata": {
    "collapsed": true
   },
   "outputs": [],
   "source": [
    "X_train_m5, Y_train_m5 = resample(X_train, y_train, n_samples = 460)"
   ]
  },
  {
   "cell_type": "markdown",
   "metadata": {},
   "source": [
    "### Filtrar Features\n",
    "Solo seleccionar los features"
   ]
  },
  {
   "cell_type": "code",
   "execution_count": 293,
   "metadata": {
    "collapsed": true
   },
   "outputs": [],
   "source": [
    "'''\n",
    "Ingresa en la lista el nombre de las fatrues que quieres utlizar en este modelo (~1 linea)\n",
    "'''\n",
    "features_filtro = ['mean compactness', 'mean fractal dimension','concavity error','worst radius', 'worst concave points'] "
   ]
  },
  {
   "cell_type": "code",
   "execution_count": 294,
   "metadata": {
    "collapsed": true
   },
   "outputs": [],
   "source": [
    "X_train_m5 = helper.fitrar_nombre(X_train_m5,data.feature_names,features_filtro)\n",
    "X_test_features = helper.fitrar_nombre(X_test,data.feature_names,features_filtro)"
   ]
  },
  {
   "cell_type": "code",
   "execution_count": 295,
   "metadata": {
    "collapsed": true
   },
   "outputs": [],
   "source": [
    "## Numero de iteracions ##\n",
    "iterations = 1000 # Define el numero de iteraciones #\n",
    "\n",
    "## Alpha ##\n",
    "alpha = 0.11 # Define el valor de alpha #\n",
    "\n",
    "#### No hay que cambiar el codigo despues de esta linea #####\n",
    "## Numero de feautres ##\n",
    "numero_features = X_train_m5.shape[1] + 1\n",
    "\n",
    "## Creamos un vector donde se almacenan los valores de Theta,\n",
    "## lo inicializamos con numeros aleatorios\n",
    "theta_vector = np.random.rand(numero_features)\n",
    "\n",
    "## Normaliza las features de X_train_features (~1 linea) ##\n",
    "X_train_m5 = normalizar(X_train_m5)\n",
    "\n",
    "# Creando la Matriz X de features\n",
    "X_train_features = np.ones((X_train_m5.shape[0], numero_features))\n",
    "X_train_features[:,:-1] = X_train_m5"
   ]
  },
  {
   "cell_type": "code",
   "execution_count": 296,
   "metadata": {
    "scrolled": true
   },
   "outputs": [
    {
     "name": "stdout",
     "output_type": "stream",
     "text": [
      "#####################\n",
      "TRAINING: [Iteracion:  0  Costo:  1.16677228209  Accuracy: 0.30652173913  F1 Score: 0.441330998249 Precision training: 0.470149253731 Recall training: <function recall at 0x00000199BCDFF048> ]\n",
      "TEST: [Iteracion:  0 Accuracy: 0.300699300699  F1 Score: 0.425287356322 Precision Test: 0.440476190476 Recall Test: 0.411111111111 ]\n",
      "#####################\n",
      "TRAINING: [Iteracion:  50  Costo:  0.267705505381  Accuracy: 0.926086956522  F1 Score: 0.94498381877 Precision training: 0.926984126984 Recall training: <function recall at 0x00000199BCDFF048> ]\n",
      "TEST: [Iteracion:  50 Accuracy: 0.923076923077  F1 Score: 0.941176470588 Precision Test: 0.907216494845 Recall Test: 0.977777777778 ]\n",
      "#####################\n",
      "TRAINING: [Iteracion:  100  Costo:  0.223124619372  Accuracy: 0.926086956522  F1 Score: 0.944625407166 Precision training: 0.932475884244 Recall training: <function recall at 0x00000199BCDFF048> ]\n",
      "TEST: [Iteracion:  100 Accuracy: 0.93006993007  F1 Score: 0.94623655914 Precision Test: 0.916666666667 Recall Test: 0.977777777778 ]\n",
      "#####################\n",
      "TRAINING: [Iteracion:  150  Costo:  0.204490422502  Accuracy: 0.934782608696  F1 Score: 0.95145631068 Precision training: 0.933333333333 Recall training: <function recall at 0x00000199BCDFF048> ]\n",
      "TEST: [Iteracion:  150 Accuracy: 0.937062937063  F1 Score: 0.951871657754 Precision Test: 0.917525773196 Recall Test: 0.988888888889 ]\n",
      "#####################\n",
      "TRAINING: [Iteracion:  200  Costo:  0.193876450261  Accuracy: 0.934782608696  F1 Score: 0.95145631068 Precision training: 0.933333333333 Recall training: <function recall at 0x00000199BCDFF048> ]\n",
      "TEST: [Iteracion:  200 Accuracy: 0.937062937063  F1 Score: 0.951871657754 Precision Test: 0.917525773196 Recall Test: 0.988888888889 ]\n",
      "#####################\n",
      "TRAINING: [Iteracion:  250  Costo:  0.18697275724  Accuracy: 0.934782608696  F1 Score: 0.95145631068 Precision training: 0.933333333333 Recall training: <function recall at 0x00000199BCDFF048> ]\n",
      "TEST: [Iteracion:  250 Accuracy: 0.937062937063  F1 Score: 0.951871657754 Precision Test: 0.917525773196 Recall Test: 0.988888888889 ]\n",
      "#####################\n",
      "TRAINING: [Iteracion:  300  Costo:  0.18211947029  Accuracy: 0.928260869565  F1 Score: 0.946859903382 Precision training: 0.924528301887 Recall training: <function recall at 0x00000199BCDFF048> ]\n",
      "TEST: [Iteracion:  300 Accuracy: 0.937062937063  F1 Score: 0.951871657754 Precision Test: 0.917525773196 Recall Test: 0.988888888889 ]\n",
      "#####################\n",
      "TRAINING: [Iteracion:  350  Costo:  0.178522176366  Accuracy: 0.926086956522  F1 Score: 0.945337620579 Precision training: 0.921630094044 Recall training: <function recall at 0x00000199BCDFF048> ]\n",
      "TEST: [Iteracion:  350 Accuracy: 0.937062937063  F1 Score: 0.951871657754 Precision Test: 0.917525773196 Recall Test: 0.988888888889 ]\n",
      "#####################\n",
      "TRAINING: [Iteracion:  400  Costo:  0.175748213676  Accuracy: 0.926086956522  F1 Score: 0.945337620579 Precision training: 0.921630094044 Recall training: <function recall at 0x00000199BCDFF048> ]\n",
      "TEST: [Iteracion:  400 Accuracy: 0.93006993007  F1 Score: 0.94623655914 Precision Test: 0.916666666667 Recall Test: 0.977777777778 ]\n",
      "#####################\n",
      "TRAINING: [Iteracion:  450  Costo:  0.173540901934  Accuracy: 0.926086956522  F1 Score: 0.945161290323 Precision training: 0.92429022082 Recall training: <function recall at 0x00000199BCDFF048> ]\n",
      "TEST: [Iteracion:  450 Accuracy: 0.93006993007  F1 Score: 0.94623655914 Precision Test: 0.916666666667 Recall Test: 0.977777777778 ]\n",
      "#####################\n",
      "TRAINING: [Iteracion:  500  Costo:  0.171738408651  Accuracy: 0.926086956522  F1 Score: 0.945161290323 Precision training: 0.92429022082 Recall training: <function recall at 0x00000199BCDFF048> ]\n",
      "TEST: [Iteracion:  500 Accuracy: 0.93006993007  F1 Score: 0.94623655914 Precision Test: 0.916666666667 Recall Test: 0.977777777778 ]\n",
      "#####################\n",
      "TRAINING: [Iteracion:  550  Costo:  0.170233910168  Accuracy: 0.921739130435  F1 Score: 0.941747572816 Precision training: 0.92380952381 Recall training: <function recall at 0x00000199BCDFF048> ]\n",
      "TEST: [Iteracion:  550 Accuracy: 0.937062937063  F1 Score: 0.951351351351 Precision Test: 0.926315789474 Recall Test: 0.977777777778 ]\n",
      "#####################\n",
      "TRAINING: [Iteracion:  600  Costo:  0.168954294717  Accuracy: 0.928260869565  F1 Score: 0.946341463415 Precision training: 0.932692307692 Recall training: <function recall at 0x00000199BCDFF048> ]\n",
      "TEST: [Iteracion:  600 Accuracy: 0.937062937063  F1 Score: 0.951351351351 Precision Test: 0.926315789474 Recall Test: 0.977777777778 ]\n",
      "#####################\n",
      "TRAINING: [Iteracion:  650  Costo:  0.167848024001  Accuracy: 0.928260869565  F1 Score: 0.946341463415 Precision training: 0.932692307692 Recall training: <function recall at 0x00000199BCDFF048> ]\n",
      "TEST: [Iteracion:  650 Accuracy: 0.937062937063  F1 Score: 0.951351351351 Precision Test: 0.926315789474 Recall Test: 0.977777777778 ]\n",
      "#####################\n",
      "TRAINING: [Iteracion:  700  Costo:  0.166877858642  Accuracy: 0.928260869565  F1 Score: 0.946341463415 Precision training: 0.932692307692 Recall training: <function recall at 0x00000199BCDFF048> ]\n",
      "TEST: [Iteracion:  700 Accuracy: 0.937062937063  F1 Score: 0.951351351351 Precision Test: 0.926315789474 Recall Test: 0.977777777778 ]\n",
      "#####################\n",
      "TRAINING: [Iteracion:  750  Costo:  0.166016317853  Accuracy: 0.928260869565  F1 Score: 0.946341463415 Precision training: 0.932692307692 Recall training: <function recall at 0x00000199BCDFF048> ]\n",
      "TEST: [Iteracion:  750 Accuracy: 0.937062937063  F1 Score: 0.951351351351 Precision Test: 0.926315789474 Recall Test: 0.977777777778 ]\n",
      "#####################\n",
      "TRAINING: [Iteracion:  800  Costo:  0.165242748366  Accuracy: 0.926086956522  F1 Score: 0.944625407166 Precision training: 0.932475884244 Recall training: <function recall at 0x00000199BCDFF048> ]\n",
      "TEST: [Iteracion:  800 Accuracy: 0.937062937063  F1 Score: 0.951351351351 Precision Test: 0.926315789474 Recall Test: 0.977777777778 ]\n",
      "#####################\n",
      "TRAINING: [Iteracion:  850  Costo:  0.164541377278  Accuracy: 0.932608695652  F1 Score: 0.949263502455 Precision training: 0.941558441558 Recall training: <function recall at 0x00000199BCDFF048> ]\n",
      "TEST: [Iteracion:  850 Accuracy: 0.937062937063  F1 Score: 0.951351351351 Precision Test: 0.926315789474 Recall Test: 0.977777777778 ]\n",
      "#####################\n",
      "TRAINING: [Iteracion:  900  Costo:  0.163899986186  Accuracy: 0.932608695652  F1 Score: 0.949263502455 Precision training: 0.941558441558 Recall training: <function recall at 0x00000199BCDFF048> ]\n",
      "TEST: [Iteracion:  900 Accuracy: 0.937062937063  F1 Score: 0.951351351351 Precision Test: 0.926315789474 Recall Test: 0.977777777778 ]\n",
      "#####################\n",
      "TRAINING: [Iteracion:  950  Costo:  0.163308988687  Accuracy: 0.932608695652  F1 Score: 0.949263502455 Precision training: 0.941558441558 Recall training: <function recall at 0x00000199BCDFF048> ]\n",
      "TEST: [Iteracion:  950 Accuracy: 0.937062937063  F1 Score: 0.951351351351 Precision Test: 0.926315789474 Recall Test: 0.977777777778 ]\n"
     ]
    }
   ],
   "source": [
    "## Llama a la funcion de gradient descent, recurda definir un nombre diferente para el modelo (~1 linea) ##\n",
    "modelo_5_theta_values, cost_vect, acc_vect, acc_vect_test = \\\n",
    "gradient_descent(X_train_features, Y_train_m5, theta_vector, alpha, iterations, X_test_features, y_test, 'modelo_5')"
   ]
  },
  {
   "cell_type": "code",
   "execution_count": 297,
   "metadata": {},
   "outputs": [
    {
     "data": {
      "image/png": "[encoded data removed]",
      "text/plain": [
       "<matplotlib.figure.Figure at 0x199bd0f9198>"
      ]
     },
     "metadata": {},
     "output_type": "display_data"
    }
   ],
   "source": [
    "## Funcion para graficar el costo y  accuracy durante cada iteracion ##\n",
    "helper.training_graph(cost_vect, acc_vect, acc_vect_test)"
   ]
  },
  {
   "cell_type": "markdown",
   "metadata": {},
   "source": [
    "#### Accuracy con el Test set [Modelo 5]"
   ]
  },
  {
   "cell_type": "code",
   "execution_count": 298,
   "metadata": {
    "collapsed": true
   },
   "outputs": [],
   "source": [
    "y_predict = prediccion(X_test_features, modelo_5_theta_values, True)"
   ]
  },
  {
   "cell_type": "code",
   "execution_count": 299,
   "metadata": {
    "scrolled": false
   },
   "outputs": [
    {
     "name": "stdout",
     "output_type": "stream",
     "text": [
      "Accuracy: 93.7062937063 %\n"
     ]
    }
   ],
   "source": [
    "print('Accuracy:',accuracy_score(y_test, y_predict)* 100 ,'%')"
   ]
  },
  {
   "cell_type": "markdown",
   "metadata": {},
   "source": [
    "#### Matriz de confusion Test Set [Modelo 5]"
   ]
  },
  {
   "cell_type": "code",
   "execution_count": 300,
   "metadata": {
    "scrolled": true
   },
   "outputs": [
    {
     "data": {
      "text/plain": [
       "array([[46,  7],\n",
       "       [ 2, 88]], dtype=int64)"
      ]
     },
     "execution_count": 300,
     "metadata": {},
     "output_type": "execute_result"
    }
   ],
   "source": [
    "confusion_matrix(y_test, y_predict)"
   ]
  },
  {
   "cell_type": "code",
   "execution_count": 301,
   "metadata": {},
   "outputs": [
    {
     "name": "stdout",
     "output_type": "stream",
     "text": [
      "precision:  0.926315789474\n",
      "recall:  0.977777777778\n"
     ]
    }
   ],
   "source": [
    "print('precision: ',precision_score(y_test, y_predict))\n",
    "\n",
    "print('recall: ', recall_score(y_test, y_predict))"
   ]
  },
  {
   "cell_type": "markdown",
   "metadata": {},
   "source": [
    "# Comparacion de Modelos\n",
    "Es importante llevar un registro de los resultados de nuestros modelos y los hyperparametros que utilizamos, para ir comparando y ajustando los modelos. En nuestra función de gradient descent esta implementado un registro a bitacora, que almacena cada ejecucion de la funcion.\n",
    "\n",
    "Este registro almacena datos que nos van a servir para comprar los modelos y tambien almacena los valores theta del modelo, por lo que podemos guardar los modelos y utlizarlos despues.\n",
    "A continuacion vamos a desplegar en la siguiente celda y nos va ayudar a tomar una decisión de cual es el mejor modelo.\n",
    "\n",
    "Es recomendable que, luego de analizar los resultados del registro ejecutemos de nuevo alguno de los modelos cambiando los hyperparametros o numero de ejemplos y ver con cuales obtenemos mejores resultados.\n",
    "\n",
    "Podemos ejecutar la funcion `helper.guardar_log_book(log_book)` para almacenar en disco los modelos.\n",
    "\n",
    "Para el ultimo paso donde exportamos el modelo debemos utilizar la funcion `helper.filter_log_book(log_book, nombre_modelo)` para obtener el mejor modelo y exportalo."
   ]
  },
  {
   "cell_type": "code",
   "execution_count": 303,
   "metadata": {},
   "outputs": [
    {
     "data": {
      "text/html": [
       "<div>\n",
       "<style>\n",
       "    .dataframe thead tr:only-child th {\n",
       "        text-align: right;\n",
       "    }\n",
       "\n",
       "    .dataframe thead th {\n",
       "        text-align: left;\n",
       "    }\n",
       "\n",
       "    .dataframe tbody tr th {\n",
       "        vertical-align: top;\n",
       "    }\n",
       "</style>\n",
       "<table border=\"1\" class=\"dataframe\">\n",
       "  <thead>\n",
       "    <tr style=\"text-align: right;\">\n",
       "      <th></th>\n",
       "      <th>Nombre Modelo</th>\n",
       "      <th>Numero de features</th>\n",
       "      <th>Numero de ejemplos</th>\n",
       "      <th>Alpha</th>\n",
       "      <th>Numero de Iteraciones</th>\n",
       "      <th>Accuracy Training</th>\n",
       "      <th>Accuracy Test</th>\n",
       "      <th>F1 score Test</th>\n",
       "      <th>Precision Test</th>\n",
       "      <th>Recall Test</th>\n",
       "    </tr>\n",
       "  </thead>\n",
       "  <tbody>\n",
       "    <tr>\n",
       "      <th>0</th>\n",
       "      <td>modelo_1_121836682151</td>\n",
       "      <td>5</td>\n",
       "      <td>150</td>\n",
       "      <td>0.12</td>\n",
       "      <td>500</td>\n",
       "      <td>0.913333</td>\n",
       "      <td>0.916084</td>\n",
       "      <td>0.931818</td>\n",
       "      <td>0.953488</td>\n",
       "      <td>0.911111</td>\n",
       "    </tr>\n",
       "    <tr>\n",
       "      <th>1</th>\n",
       "      <td>modelo_2_121836909209</td>\n",
       "      <td>5</td>\n",
       "      <td>400</td>\n",
       "      <td>0.10</td>\n",
       "      <td>600</td>\n",
       "      <td>0.972500</td>\n",
       "      <td>0.958042</td>\n",
       "      <td>0.966667</td>\n",
       "      <td>0.966667</td>\n",
       "      <td>0.966667</td>\n",
       "    </tr>\n",
       "    <tr>\n",
       "      <th>2</th>\n",
       "      <td>modelo_3_121837533819</td>\n",
       "      <td>5</td>\n",
       "      <td>460</td>\n",
       "      <td>0.05</td>\n",
       "      <td>1000</td>\n",
       "      <td>0.932609</td>\n",
       "      <td>0.902098</td>\n",
       "      <td>0.923913</td>\n",
       "      <td>0.904255</td>\n",
       "      <td>0.944444</td>\n",
       "    </tr>\n",
       "    <tr>\n",
       "      <th>3</th>\n",
       "      <td>modelo_4_121837912971</td>\n",
       "      <td>5</td>\n",
       "      <td>460</td>\n",
       "      <td>0.08</td>\n",
       "      <td>700</td>\n",
       "      <td>0.856522</td>\n",
       "      <td>0.769231</td>\n",
       "      <td>0.821622</td>\n",
       "      <td>0.800000</td>\n",
       "      <td>0.844444</td>\n",
       "    </tr>\n",
       "    <tr>\n",
       "      <th>4</th>\n",
       "      <td>modelo_5_121837632444</td>\n",
       "      <td>5</td>\n",
       "      <td>460</td>\n",
       "      <td>0.11</td>\n",
       "      <td>1000</td>\n",
       "      <td>0.932609</td>\n",
       "      <td>0.937063</td>\n",
       "      <td>0.951351</td>\n",
       "      <td>0.926316</td>\n",
       "      <td>0.977778</td>\n",
       "    </tr>\n",
       "  </tbody>\n",
       "</table>\n",
       "</div>"
      ],
      "text/plain": [
       "           Nombre Modelo Numero de features Numero de ejemplos  Alpha  \\\n",
       "0  modelo_1_121836682151                  5                150   0.12   \n",
       "1  modelo_2_121836909209                  5                400   0.10   \n",
       "2  modelo_3_121837533819                  5                460   0.05   \n",
       "3  modelo_4_121837912971                  5                460   0.08   \n",
       "4  modelo_5_121837632444                  5                460   0.11   \n",
       "\n",
       "  Numero de Iteraciones  Accuracy Training  Accuracy Test  F1 score Test  \\\n",
       "0                   500           0.913333       0.916084       0.931818   \n",
       "1                   600           0.972500       0.958042       0.966667   \n",
       "2                  1000           0.932609       0.902098       0.923913   \n",
       "3                   700           0.856522       0.769231       0.821622   \n",
       "4                  1000           0.932609       0.937063       0.951351   \n",
       "\n",
       "   Precision Test  Recall Test  \n",
       "0        0.953488     0.911111  \n",
       "1        0.966667     0.966667  \n",
       "2        0.904255     0.944444  \n",
       "3        0.800000     0.844444  \n",
       "4        0.926316     0.977778  "
      ]
     },
     "execution_count": 303,
     "metadata": {},
     "output_type": "execute_result"
    }
   ],
   "source": [
    "helper.print_log_book(log_book)"
   ]
  },
  {
   "cell_type": "markdown",
   "metadata": {},
   "source": [
    "### Guardando la bitacora"
   ]
  },
  {
   "cell_type": "code",
   "execution_count": 304,
   "metadata": {
    "collapsed": true
   },
   "outputs": [],
   "source": [
    "helper.guardar_log_book(log_book)"
   ]
  },
  {
   "cell_type": "markdown",
   "metadata": {},
   "source": [
    "## Exportar el modelo\n",
    "\n",
    "Vamos a exportar el modelo para poder hacer deploy, ** el modelo exportado debe tener las cinco primeras feautures **. Por lo cual de todos tus experimentos, selecciona el mejor modelo que cumpla con usar las 5 features ya mencionadas.\n",
    "\n",
    "Selecciona tu mejor modelo:"
   ]
  },
  {
   "cell_type": "markdown",
   "metadata": {},
   "source": [
    "### Seleccionamos el mejor modelo\n",
    "\n",
    "Para seleccionar un modelo utilizamos la funcion `helper.filter_log_book()`.\n",
    "\n",
    "Esta funcion recibe de parametros la bitacora y el nombre del modelo que elegiste como el mejor\n",
    "\n",
    "`helper.filter_log_book(log_book, <nombre de nuestro mejor modelo>)`"
   ]
  },
  {
   "cell_type": "code",
   "execution_count": 305,
   "metadata": {},
   "outputs": [
    {
     "name": "stdout",
     "output_type": "stream",
     "text": [
      "[-2.8796719541811449, -1.031333985746012, -0.37934091162933231, -0.65705382544508428, -1.6350669221055425, 0.6692285579699947]\n"
     ]
    }
   ],
   "source": [
    "### INICIO: TU CODIGO AQUI:  (~1 linea)###\n",
    "modelo = helper.filter_log_book(log_book, 'modelo_2_121836909209')\n",
    "\n",
    "print(modelo)"
   ]
  },
  {
   "cell_type": "markdown",
   "metadata": {},
   "source": [
    "Se va a utilizar el siguiente codigo para guardar el modelo elegido en un archivo.\n",
    "\n",
    "Esto genera 2 archivos, en un archivo _model.csv se tienen los parametros de el modelo elegido.\n",
    "\n",
    "El segundo archivo llamado _momentos.csv guarda la media y desviacion estandar de cada features, esto sera utilizado\n",
    "en la aplicacion hecha por el profesor para aplicar normalizacion al realizar predicciones.\n",
    "\n",
    "No hay que cambiar nada de codigo, solo hay que ejecutar la celda para exportar nuestro modelo y luego enviar los archivos .csv al profesor"
   ]
  },
  {
   "cell_type": "code",
   "execution_count": 306,
   "metadata": {},
   "outputs": [
    {
     "name": "stdout",
     "output_type": "stream",
     "text": [
      "El modelo ha sido exportado [ 20150205_momentos.csv ]\n"
     ]
    }
   ],
   "source": [
    "import csv\n",
    "\n",
    "def exportar_modelo(model,carnet):\n",
    "    norm_std, norm_media = helper.get_normalizacion_vales(X_train[:,0:5])\n",
    "    with open(carnet + '_model.csv', 'w') as csvfile:\n",
    "        filewriter = csv.writer(csvfile, delimiter=',',quotechar='|', quoting=csv.QUOTE_MINIMAL)\n",
    "        filewriter.writerow(model)\n",
    "        \n",
    "    with open(carnet + '_momentos.csv', 'w') as csvfile:\n",
    "        filewriter = csv.writer(csvfile, delimiter=',',quotechar='|', quoting=csv.QUOTE_MINIMAL)\n",
    "        filewriter.writerow(norm_std)\n",
    "        filewriter.writerow(norm_media)\n",
    "        \n",
    "    print('El modelo ha sido exportado [',csvfile.name,']')\n",
    "    \n",
    "exportar_modelo(modelo,carnet)"
   ]
  },
  {
   "cell_type": "markdown",
   "metadata": {},
   "source": [
    "<img src=\"images/ai_cancer.png\" width=\"700\">"
   ]
  },
  {
   "cell_type": "markdown",
   "metadata": {},
   "source": [
    "# Una vez elegido y exportado tu modelo , debes enviar los archivos .csv resultantes al profesor por correo"
   ]
  },
  {
   "cell_type": "code",
   "execution_count": null,
   "metadata": {
    "collapsed": true
   },
   "outputs": [],
   "source": []
  }
 ],
 "metadata": {
  "kernelspec": {
   "display_name": "Python 3",
   "language": "python",
   "name": "python3"
  },
  "language_info": {
   "codemirror_mode": {
    "name": "ipython",
    "version": 3
   },
   "file_extension": ".py",
   "mimetype": "text/x-python",
   "name": "python",
   "nbconvert_exporter": "python",
   "pygments_lexer": "ipython3",
   "version": "3.6.3"
  }
 },
 "nbformat": 4,
 "nbformat_minor": 2
}
